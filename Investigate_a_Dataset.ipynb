{
 "cells": [
  {
   "cell_type": "markdown",
   "metadata": {},
   "source": [
    "# Project: Investigate a Dataset: *Finding Correlations among Unrelated Variables*\n",
    "\n",
    "## Table of Contents\n",
    "<ul>\n",
    "<li><a href=\"#intro\">Introduction</a></li>\n",
    "<li><a href=\"#wrangling\">Data Wrangling</a></li>\n",
    "<li><a href=\"#eda\">Exploring the Data</a></li>\n",
    "<li><a href=\"#conclusions\">Conclusions</a></li>\n",
    "</ul>"
   ]
  },
  {
   "cell_type": "markdown",
   "metadata": {},
   "source": [
    "<a id='intro'></a>\n",
    "## I) Introduction\n",
    "\n",
    "**Broad question:** How do total forest area and frequency of natural disasters shape a country's obesity rates and murder rates?\n",
    "\n",
    "> I picked these factors which seem to be unrelated--geography & frequency of natural disasters, to rates of obesity murder, to formulate new interesting questions and uncover unexpected patterns. I also wanted to approach this project through an experimental and free-for-all lens, just to see if I can make any fun or comical conclusions from the giving unrelated datasets. To narrow down my focus, I picked subcategory of [TK] for geography, [TK] for education and [TK] to encompass murder rates. I received all of my data through GapMinder."
   ]
  },
  {
   "cell_type": "code",
   "execution_count": 1,
   "metadata": {},
   "outputs": [],
   "source": [
    "import pandas as pd\n",
    "import numpy as np\n",
    "import matplotlib.pyplot as plt\n",
    "%matplotlib inline"
   ]
  },
  {
   "cell_type": "markdown",
   "metadata": {},
   "source": [
    "<a id='wrangling'></a>\n",
    "# II) Data Wrangling\n",
    "\n",
    "## A) Gathering Data\n",
    "\n",
    "#### Natural Disasters\n",
    "> I took [TK list dataset names here], each depicting the number of deaths of their respective natural disaster. To combine those datasets, I generated a new CSV file named `natural_disaster_deaths.csv`, which depicts the sum of deaths by natural disaster per year for each country."
   ]
  },
  {
   "cell_type": "code",
   "execution_count": 2,
   "metadata": {},
   "outputs": [],
   "source": [
    "#Load all DataFrames for natural disasters\n",
    "filepath_nds = './data/natural_disasters/'\n",
    "\n",
    "#assign country names as primary indexes\n",
    "df_drought = pd.read_csv(filepath_nds + 'indicator_drought_killed.csv', index_col = 'Drought killed')\n",
    "df_earthquake = pd.read_csv(filepath_nds + 'indicator_earthquake_killed.csv', index_col = 'Earthquake killed')\n",
    "df_epidemic = pd.read_csv(filepath_nds + 'indicator_epidemic_killed.csv', index_col = 'Epidemic killed')\n",
    "df_flood = pd.read_csv(filepath_nds + 'indicator_flood_killed.csv', index_col = 'Flood killed')\n",
    "df_storm = pd.read_csv(filepath_nds + 'indicator_storm_killed.csv', index_col = 'Storm killed')\n",
    "df_tsunami = pd.read_csv(filepath_nds + 'indicator_tsunami_killed.csv', index_col = 'Tsunami killed')"
   ]
  },
  {
   "cell_type": "code",
   "execution_count": 3,
   "metadata": {},
   "outputs": [],
   "source": [
    "#put all natural disaster DataFrames in a dictionary for iteration\n",
    "dict_nds = {'drought killed' : df_drought,\n",
    "            'earthquake killed' : df_earthquake,\n",
    "            'epidemic killed' : df_epidemic,\n",
    "            'flood killed' : df_flood,\n",
    "            'storm killed' : df_storm,\n",
    "            'tsunami killed' : df_tsunami\n",
    "            }"
   ]
  },
  {
   "cell_type": "markdown",
   "metadata": {},
   "source": [
    "#### Total Forest Area\n",
    "> I am focusing on total natural forest land per country, and so I will exclude factors that indicate if said forest land is reserved for agricultural production.\n",
    "\n",
    "> From GapMinder, forest area is described as ‘land under natural or planted stands of trees of at least 5 meters in situ, whether productive or not, and excludes tree stands in agricultural production systems (for example, in fruit plantations and agroforestry systems) and trees in urban parks and gardens.' The dataset `forest_area_sq_km.csv` keeps track of the total forest area from 1990 to 2015."
   ]
  },
  {
   "cell_type": "code",
   "execution_count": 4,
   "metadata": {},
   "outputs": [
    {
     "data": {
      "text/html": [
       "<div>\n",
       "<style scoped>\n",
       "    .dataframe tbody tr th:only-of-type {\n",
       "        vertical-align: middle;\n",
       "    }\n",
       "\n",
       "    .dataframe tbody tr th {\n",
       "        vertical-align: top;\n",
       "    }\n",
       "\n",
       "    .dataframe thead th {\n",
       "        text-align: right;\n",
       "    }\n",
       "</style>\n",
       "<table border=\"1\" class=\"dataframe\">\n",
       "  <thead>\n",
       "    <tr style=\"text-align: right;\">\n",
       "      <th></th>\n",
       "      <th>1990</th>\n",
       "      <th>1991</th>\n",
       "      <th>1992</th>\n",
       "      <th>1993</th>\n",
       "      <th>1994</th>\n",
       "      <th>1995</th>\n",
       "      <th>1996</th>\n",
       "      <th>1997</th>\n",
       "      <th>1998</th>\n",
       "      <th>1999</th>\n",
       "      <th>...</th>\n",
       "      <th>2006</th>\n",
       "      <th>2007</th>\n",
       "      <th>2008</th>\n",
       "      <th>2009</th>\n",
       "      <th>2010</th>\n",
       "      <th>2011</th>\n",
       "      <th>2012</th>\n",
       "      <th>2013</th>\n",
       "      <th>2014</th>\n",
       "      <th>2015</th>\n",
       "    </tr>\n",
       "    <tr>\n",
       "      <th>country</th>\n",
       "      <th></th>\n",
       "      <th></th>\n",
       "      <th></th>\n",
       "      <th></th>\n",
       "      <th></th>\n",
       "      <th></th>\n",
       "      <th></th>\n",
       "      <th></th>\n",
       "      <th></th>\n",
       "      <th></th>\n",
       "      <th></th>\n",
       "      <th></th>\n",
       "      <th></th>\n",
       "      <th></th>\n",
       "      <th></th>\n",
       "      <th></th>\n",
       "      <th></th>\n",
       "      <th></th>\n",
       "      <th></th>\n",
       "      <th></th>\n",
       "      <th></th>\n",
       "    </tr>\n",
       "  </thead>\n",
       "  <tbody>\n",
       "    <tr>\n",
       "      <th>Afghanistan</th>\n",
       "      <td>13500.0</td>\n",
       "      <td>13500.0</td>\n",
       "      <td>13500.0</td>\n",
       "      <td>13500.0</td>\n",
       "      <td>13500.0</td>\n",
       "      <td>13500.0</td>\n",
       "      <td>13500.0</td>\n",
       "      <td>13500.0</td>\n",
       "      <td>13500.0</td>\n",
       "      <td>13500.0</td>\n",
       "      <td>...</td>\n",
       "      <td>13500.0</td>\n",
       "      <td>13500.0</td>\n",
       "      <td>13500.0</td>\n",
       "      <td>13500.0</td>\n",
       "      <td>13500.0</td>\n",
       "      <td>13500.0</td>\n",
       "      <td>13500.0</td>\n",
       "      <td>13500.0</td>\n",
       "      <td>13500.0</td>\n",
       "      <td>13500.0</td>\n",
       "    </tr>\n",
       "    <tr>\n",
       "      <th>Albania</th>\n",
       "      <td>7890.0</td>\n",
       "      <td>7870.0</td>\n",
       "      <td>7850.0</td>\n",
       "      <td>7830.0</td>\n",
       "      <td>7810.0</td>\n",
       "      <td>7790.0</td>\n",
       "      <td>7770.0</td>\n",
       "      <td>7750.0</td>\n",
       "      <td>7730.0</td>\n",
       "      <td>7710.0</td>\n",
       "      <td>...</td>\n",
       "      <td>7810.0</td>\n",
       "      <td>7800.0</td>\n",
       "      <td>7790.0</td>\n",
       "      <td>7780.0</td>\n",
       "      <td>7760.0</td>\n",
       "      <td>7750.0</td>\n",
       "      <td>7740.0</td>\n",
       "      <td>7730.0</td>\n",
       "      <td>7720.0</td>\n",
       "      <td>7720.0</td>\n",
       "    </tr>\n",
       "    <tr>\n",
       "      <th>Algeria</th>\n",
       "      <td>16700.0</td>\n",
       "      <td>16600.0</td>\n",
       "      <td>16500.0</td>\n",
       "      <td>16400.0</td>\n",
       "      <td>16300.0</td>\n",
       "      <td>16200.0</td>\n",
       "      <td>16100.0</td>\n",
       "      <td>16100.0</td>\n",
       "      <td>16000.0</td>\n",
       "      <td>15900.0</td>\n",
       "      <td>...</td>\n",
       "      <td>16100.0</td>\n",
       "      <td>16900.0</td>\n",
       "      <td>17700.0</td>\n",
       "      <td>18400.0</td>\n",
       "      <td>19200.0</td>\n",
       "      <td>19300.0</td>\n",
       "      <td>19300.0</td>\n",
       "      <td>19400.0</td>\n",
       "      <td>19500.0</td>\n",
       "      <td>19600.0</td>\n",
       "    </tr>\n",
       "    <tr>\n",
       "      <th>Andorra</th>\n",
       "      <td>160.0</td>\n",
       "      <td>160.0</td>\n",
       "      <td>160.0</td>\n",
       "      <td>160.0</td>\n",
       "      <td>160.0</td>\n",
       "      <td>160.0</td>\n",
       "      <td>160.0</td>\n",
       "      <td>160.0</td>\n",
       "      <td>160.0</td>\n",
       "      <td>160.0</td>\n",
       "      <td>...</td>\n",
       "      <td>160.0</td>\n",
       "      <td>160.0</td>\n",
       "      <td>160.0</td>\n",
       "      <td>160.0</td>\n",
       "      <td>160.0</td>\n",
       "      <td>160.0</td>\n",
       "      <td>160.0</td>\n",
       "      <td>160.0</td>\n",
       "      <td>160.0</td>\n",
       "      <td>160.0</td>\n",
       "    </tr>\n",
       "    <tr>\n",
       "      <th>Angola</th>\n",
       "      <td>610000.0</td>\n",
       "      <td>609000.0</td>\n",
       "      <td>607000.0</td>\n",
       "      <td>606000.0</td>\n",
       "      <td>605000.0</td>\n",
       "      <td>604000.0</td>\n",
       "      <td>602000.0</td>\n",
       "      <td>601000.0</td>\n",
       "      <td>600000.0</td>\n",
       "      <td>599000.0</td>\n",
       "      <td>...</td>\n",
       "      <td>590000.0</td>\n",
       "      <td>589000.0</td>\n",
       "      <td>587000.0</td>\n",
       "      <td>586000.0</td>\n",
       "      <td>585000.0</td>\n",
       "      <td>584000.0</td>\n",
       "      <td>582000.0</td>\n",
       "      <td>581000.0</td>\n",
       "      <td>580000.0</td>\n",
       "      <td>579000.0</td>\n",
       "    </tr>\n",
       "  </tbody>\n",
       "</table>\n",
       "<p>5 rows × 26 columns</p>\n",
       "</div>"
      ],
      "text/plain": [
       "                 1990      1991      1992      1993      1994      1995  \\\n",
       "country                                                                   \n",
       "Afghanistan   13500.0   13500.0   13500.0   13500.0   13500.0   13500.0   \n",
       "Albania        7890.0    7870.0    7850.0    7830.0    7810.0    7790.0   \n",
       "Algeria       16700.0   16600.0   16500.0   16400.0   16300.0   16200.0   \n",
       "Andorra         160.0     160.0     160.0     160.0     160.0     160.0   \n",
       "Angola       610000.0  609000.0  607000.0  606000.0  605000.0  604000.0   \n",
       "\n",
       "                 1996      1997      1998      1999  ...      2006      2007  \\\n",
       "country                                              ...                       \n",
       "Afghanistan   13500.0   13500.0   13500.0   13500.0  ...   13500.0   13500.0   \n",
       "Albania        7770.0    7750.0    7730.0    7710.0  ...    7810.0    7800.0   \n",
       "Algeria       16100.0   16100.0   16000.0   15900.0  ...   16100.0   16900.0   \n",
       "Andorra         160.0     160.0     160.0     160.0  ...     160.0     160.0   \n",
       "Angola       602000.0  601000.0  600000.0  599000.0  ...  590000.0  589000.0   \n",
       "\n",
       "                 2008      2009      2010      2011      2012      2013  \\\n",
       "country                                                                   \n",
       "Afghanistan   13500.0   13500.0   13500.0   13500.0   13500.0   13500.0   \n",
       "Albania        7790.0    7780.0    7760.0    7750.0    7740.0    7730.0   \n",
       "Algeria       17700.0   18400.0   19200.0   19300.0   19300.0   19400.0   \n",
       "Andorra         160.0     160.0     160.0     160.0     160.0     160.0   \n",
       "Angola       587000.0  586000.0  585000.0  584000.0  582000.0  581000.0   \n",
       "\n",
       "                 2014      2015  \n",
       "country                          \n",
       "Afghanistan   13500.0   13500.0  \n",
       "Albania        7720.0    7720.0  \n",
       "Algeria       19500.0   19600.0  \n",
       "Andorra         160.0     160.0  \n",
       "Angola       580000.0  579000.0  \n",
       "\n",
       "[5 rows x 26 columns]"
      ]
     },
     "execution_count": 4,
     "metadata": {},
     "output_type": "execute_result"
    }
   ],
   "source": [
    "df_forest = pd.read_csv('./data/forest_area_sq_km.csv', index_col='country')\n",
    "df_forest.head()"
   ]
  },
  {
   "cell_type": "markdown",
   "metadata": {},
   "source": [
    "#### Obesity Rates\n",
    "> GapMinder provided the age standardized mean for BMI, dividing it into BMI values for men and women. \n",
    "\n",
    "Though generally it may seem that a higher BMI indicates a 'healthier' weight for male, [this article](https://signup.weightwatchers.co.uk/util/art/index_art.aspx?art_id=31901&tabnum=1&sc=803&subnav=Science+Library%3A+Health+and+Weight) clarifies that BMI rates above 25 would still indicate ill health: an equal expectation for both men and women."
   ]
  },
  {
   "cell_type": "code",
   "execution_count": 5,
   "metadata": {},
   "outputs": [],
   "source": [
    "df_bmi_male = pd.read_csv('./data/bmi_rates/bmi_male.csv', index_col='Country')\n",
    "df_bmi_female = pd.read_csv('./data/bmi_rates/bmi_female.csv', index_col='Country')"
   ]
  },
  {
   "cell_type": "code",
   "execution_count": 6,
   "metadata": {},
   "outputs": [
    {
     "data": {
      "text/html": [
       "<div>\n",
       "<style scoped>\n",
       "    .dataframe tbody tr th:only-of-type {\n",
       "        vertical-align: middle;\n",
       "    }\n",
       "\n",
       "    .dataframe tbody tr th {\n",
       "        vertical-align: top;\n",
       "    }\n",
       "\n",
       "    .dataframe thead th {\n",
       "        text-align: right;\n",
       "    }\n",
       "</style>\n",
       "<table border=\"1\" class=\"dataframe\">\n",
       "  <thead>\n",
       "    <tr style=\"text-align: right;\">\n",
       "      <th></th>\n",
       "      <th>1980</th>\n",
       "      <th>1981</th>\n",
       "      <th>1982</th>\n",
       "      <th>1983</th>\n",
       "      <th>1984</th>\n",
       "      <th>1985</th>\n",
       "      <th>1986</th>\n",
       "      <th>1987</th>\n",
       "      <th>1988</th>\n",
       "      <th>1989</th>\n",
       "      <th>...</th>\n",
       "      <th>1999</th>\n",
       "      <th>2000</th>\n",
       "      <th>2001</th>\n",
       "      <th>2002</th>\n",
       "      <th>2003</th>\n",
       "      <th>2004</th>\n",
       "      <th>2005</th>\n",
       "      <th>2006</th>\n",
       "      <th>2007</th>\n",
       "      <th>2008</th>\n",
       "    </tr>\n",
       "    <tr>\n",
       "      <th>Country</th>\n",
       "      <th></th>\n",
       "      <th></th>\n",
       "      <th></th>\n",
       "      <th></th>\n",
       "      <th></th>\n",
       "      <th></th>\n",
       "      <th></th>\n",
       "      <th></th>\n",
       "      <th></th>\n",
       "      <th></th>\n",
       "      <th></th>\n",
       "      <th></th>\n",
       "      <th></th>\n",
       "      <th></th>\n",
       "      <th></th>\n",
       "      <th></th>\n",
       "      <th></th>\n",
       "      <th></th>\n",
       "      <th></th>\n",
       "      <th></th>\n",
       "      <th></th>\n",
       "    </tr>\n",
       "  </thead>\n",
       "  <tbody>\n",
       "    <tr>\n",
       "      <th>Afghanistan</th>\n",
       "      <td>21.48678</td>\n",
       "      <td>21.46552</td>\n",
       "      <td>21.45145</td>\n",
       "      <td>21.43822</td>\n",
       "      <td>21.42734</td>\n",
       "      <td>21.41222</td>\n",
       "      <td>21.40132</td>\n",
       "      <td>21.37679</td>\n",
       "      <td>21.34018</td>\n",
       "      <td>21.29845</td>\n",
       "      <td>...</td>\n",
       "      <td>20.75469</td>\n",
       "      <td>20.69521</td>\n",
       "      <td>20.62643</td>\n",
       "      <td>20.59848</td>\n",
       "      <td>20.58706</td>\n",
       "      <td>20.57759</td>\n",
       "      <td>20.58084</td>\n",
       "      <td>20.58749</td>\n",
       "      <td>20.60246</td>\n",
       "      <td>20.62058</td>\n",
       "    </tr>\n",
       "    <tr>\n",
       "      <th>Albania</th>\n",
       "      <td>25.22533</td>\n",
       "      <td>25.23981</td>\n",
       "      <td>25.25636</td>\n",
       "      <td>25.27176</td>\n",
       "      <td>25.27901</td>\n",
       "      <td>25.28669</td>\n",
       "      <td>25.29451</td>\n",
       "      <td>25.30217</td>\n",
       "      <td>25.30450</td>\n",
       "      <td>25.31944</td>\n",
       "      <td>...</td>\n",
       "      <td>25.46555</td>\n",
       "      <td>25.55835</td>\n",
       "      <td>25.66701</td>\n",
       "      <td>25.77167</td>\n",
       "      <td>25.87274</td>\n",
       "      <td>25.98136</td>\n",
       "      <td>26.08939</td>\n",
       "      <td>26.20867</td>\n",
       "      <td>26.32753</td>\n",
       "      <td>26.44657</td>\n",
       "    </tr>\n",
       "    <tr>\n",
       "      <th>Algeria</th>\n",
       "      <td>22.25703</td>\n",
       "      <td>22.34745</td>\n",
       "      <td>22.43647</td>\n",
       "      <td>22.52105</td>\n",
       "      <td>22.60633</td>\n",
       "      <td>22.69501</td>\n",
       "      <td>22.76979</td>\n",
       "      <td>22.84096</td>\n",
       "      <td>22.90644</td>\n",
       "      <td>22.97931</td>\n",
       "      <td>...</td>\n",
       "      <td>23.69486</td>\n",
       "      <td>23.77659</td>\n",
       "      <td>23.86256</td>\n",
       "      <td>23.95294</td>\n",
       "      <td>24.05243</td>\n",
       "      <td>24.15957</td>\n",
       "      <td>24.27001</td>\n",
       "      <td>24.38270</td>\n",
       "      <td>24.48846</td>\n",
       "      <td>24.59620</td>\n",
       "    </tr>\n",
       "    <tr>\n",
       "      <th>Andorra</th>\n",
       "      <td>25.66652</td>\n",
       "      <td>25.70868</td>\n",
       "      <td>25.74681</td>\n",
       "      <td>25.78250</td>\n",
       "      <td>25.81874</td>\n",
       "      <td>25.85236</td>\n",
       "      <td>25.89089</td>\n",
       "      <td>25.93414</td>\n",
       "      <td>25.98477</td>\n",
       "      <td>26.04450</td>\n",
       "      <td>...</td>\n",
       "      <td>26.75078</td>\n",
       "      <td>26.83179</td>\n",
       "      <td>26.92373</td>\n",
       "      <td>27.02525</td>\n",
       "      <td>27.12481</td>\n",
       "      <td>27.23107</td>\n",
       "      <td>27.32827</td>\n",
       "      <td>27.43588</td>\n",
       "      <td>27.53363</td>\n",
       "      <td>27.63048</td>\n",
       "    </tr>\n",
       "    <tr>\n",
       "      <th>Angola</th>\n",
       "      <td>20.94876</td>\n",
       "      <td>20.94371</td>\n",
       "      <td>20.93754</td>\n",
       "      <td>20.93187</td>\n",
       "      <td>20.93569</td>\n",
       "      <td>20.94857</td>\n",
       "      <td>20.96030</td>\n",
       "      <td>20.98025</td>\n",
       "      <td>21.01375</td>\n",
       "      <td>21.05269</td>\n",
       "      <td>...</td>\n",
       "      <td>21.31954</td>\n",
       "      <td>21.37480</td>\n",
       "      <td>21.43664</td>\n",
       "      <td>21.51765</td>\n",
       "      <td>21.59924</td>\n",
       "      <td>21.69218</td>\n",
       "      <td>21.80564</td>\n",
       "      <td>21.93881</td>\n",
       "      <td>22.08962</td>\n",
       "      <td>22.25083</td>\n",
       "    </tr>\n",
       "  </tbody>\n",
       "</table>\n",
       "<p>5 rows × 29 columns</p>\n",
       "</div>"
      ],
      "text/plain": [
       "                 1980      1981      1982      1983      1984      1985  \\\n",
       "Country                                                                   \n",
       "Afghanistan  21.48678  21.46552  21.45145  21.43822  21.42734  21.41222   \n",
       "Albania      25.22533  25.23981  25.25636  25.27176  25.27901  25.28669   \n",
       "Algeria      22.25703  22.34745  22.43647  22.52105  22.60633  22.69501   \n",
       "Andorra      25.66652  25.70868  25.74681  25.78250  25.81874  25.85236   \n",
       "Angola       20.94876  20.94371  20.93754  20.93187  20.93569  20.94857   \n",
       "\n",
       "                 1986      1987      1988      1989  ...      1999      2000  \\\n",
       "Country                                              ...                       \n",
       "Afghanistan  21.40132  21.37679  21.34018  21.29845  ...  20.75469  20.69521   \n",
       "Albania      25.29451  25.30217  25.30450  25.31944  ...  25.46555  25.55835   \n",
       "Algeria      22.76979  22.84096  22.90644  22.97931  ...  23.69486  23.77659   \n",
       "Andorra      25.89089  25.93414  25.98477  26.04450  ...  26.75078  26.83179   \n",
       "Angola       20.96030  20.98025  21.01375  21.05269  ...  21.31954  21.37480   \n",
       "\n",
       "                 2001      2002      2003      2004      2005      2006  \\\n",
       "Country                                                                   \n",
       "Afghanistan  20.62643  20.59848  20.58706  20.57759  20.58084  20.58749   \n",
       "Albania      25.66701  25.77167  25.87274  25.98136  26.08939  26.20867   \n",
       "Algeria      23.86256  23.95294  24.05243  24.15957  24.27001  24.38270   \n",
       "Andorra      26.92373  27.02525  27.12481  27.23107  27.32827  27.43588   \n",
       "Angola       21.43664  21.51765  21.59924  21.69218  21.80564  21.93881   \n",
       "\n",
       "                 2007      2008  \n",
       "Country                          \n",
       "Afghanistan  20.60246  20.62058  \n",
       "Albania      26.32753  26.44657  \n",
       "Algeria      24.48846  24.59620  \n",
       "Andorra      27.53363  27.63048  \n",
       "Angola       22.08962  22.25083  \n",
       "\n",
       "[5 rows x 29 columns]"
      ]
     },
     "execution_count": 6,
     "metadata": {},
     "output_type": "execute_result"
    }
   ],
   "source": [
    "df_bmi_male.head()"
   ]
  },
  {
   "cell_type": "markdown",
   "metadata": {},
   "source": [
    "#### Murder Rates\n",
    "> Encompasses number of murders per 100,000 people, accounting for all ages."
   ]
  },
  {
   "cell_type": "code",
   "execution_count": 7,
   "metadata": {},
   "outputs": [],
   "source": [
    "df_murder = pd.read_csv('./data/homicide_rates.csv', index_col='Murder per 100,000, age adjusted')"
   ]
  },
  {
   "cell_type": "code",
   "execution_count": 8,
   "metadata": {},
   "outputs": [
    {
     "data": {
      "text/html": [
       "<div>\n",
       "<style scoped>\n",
       "    .dataframe tbody tr th:only-of-type {\n",
       "        vertical-align: middle;\n",
       "    }\n",
       "\n",
       "    .dataframe tbody tr th {\n",
       "        vertical-align: top;\n",
       "    }\n",
       "\n",
       "    .dataframe thead th {\n",
       "        text-align: right;\n",
       "    }\n",
       "</style>\n",
       "<table border=\"1\" class=\"dataframe\">\n",
       "  <thead>\n",
       "    <tr style=\"text-align: right;\">\n",
       "      <th></th>\n",
       "      <th>1950</th>\n",
       "      <th>1951</th>\n",
       "      <th>1952</th>\n",
       "      <th>1953</th>\n",
       "      <th>1954</th>\n",
       "      <th>1955</th>\n",
       "      <th>1956</th>\n",
       "      <th>1957</th>\n",
       "      <th>1958</th>\n",
       "      <th>1959</th>\n",
       "      <th>...</th>\n",
       "      <th>1996</th>\n",
       "      <th>1997</th>\n",
       "      <th>1998</th>\n",
       "      <th>1999</th>\n",
       "      <th>2000</th>\n",
       "      <th>2001</th>\n",
       "      <th>2002</th>\n",
       "      <th>2003</th>\n",
       "      <th>2004</th>\n",
       "      <th>2005</th>\n",
       "    </tr>\n",
       "    <tr>\n",
       "      <th>Murder per 100,000, age adjusted</th>\n",
       "      <th></th>\n",
       "      <th></th>\n",
       "      <th></th>\n",
       "      <th></th>\n",
       "      <th></th>\n",
       "      <th></th>\n",
       "      <th></th>\n",
       "      <th></th>\n",
       "      <th></th>\n",
       "      <th></th>\n",
       "      <th></th>\n",
       "      <th></th>\n",
       "      <th></th>\n",
       "      <th></th>\n",
       "      <th></th>\n",
       "      <th></th>\n",
       "      <th></th>\n",
       "      <th></th>\n",
       "      <th></th>\n",
       "      <th></th>\n",
       "      <th></th>\n",
       "    </tr>\n",
       "  </thead>\n",
       "  <tbody>\n",
       "    <tr>\n",
       "      <th>Afghanistan</th>\n",
       "      <td>NaN</td>\n",
       "      <td>NaN</td>\n",
       "      <td>NaN</td>\n",
       "      <td>NaN</td>\n",
       "      <td>NaN</td>\n",
       "      <td>NaN</td>\n",
       "      <td>NaN</td>\n",
       "      <td>NaN</td>\n",
       "      <td>NaN</td>\n",
       "      <td>NaN</td>\n",
       "      <td>...</td>\n",
       "      <td>NaN</td>\n",
       "      <td>NaN</td>\n",
       "      <td>NaN</td>\n",
       "      <td>NaN</td>\n",
       "      <td>NaN</td>\n",
       "      <td>NaN</td>\n",
       "      <td>4.650731</td>\n",
       "      <td>NaN</td>\n",
       "      <td>3.837318</td>\n",
       "      <td>3.837318</td>\n",
       "    </tr>\n",
       "    <tr>\n",
       "      <th>Albania</th>\n",
       "      <td>NaN</td>\n",
       "      <td>NaN</td>\n",
       "      <td>NaN</td>\n",
       "      <td>NaN</td>\n",
       "      <td>NaN</td>\n",
       "      <td>NaN</td>\n",
       "      <td>NaN</td>\n",
       "      <td>NaN</td>\n",
       "      <td>NaN</td>\n",
       "      <td>NaN</td>\n",
       "      <td>...</td>\n",
       "      <td>NaN</td>\n",
       "      <td>NaN</td>\n",
       "      <td>NaN</td>\n",
       "      <td>NaN</td>\n",
       "      <td>NaN</td>\n",
       "      <td>NaN</td>\n",
       "      <td>5.972975</td>\n",
       "      <td>8.115989</td>\n",
       "      <td>6.681117</td>\n",
       "      <td>7.326701</td>\n",
       "    </tr>\n",
       "    <tr>\n",
       "      <th>Algeria</th>\n",
       "      <td>NaN</td>\n",
       "      <td>NaN</td>\n",
       "      <td>NaN</td>\n",
       "      <td>NaN</td>\n",
       "      <td>NaN</td>\n",
       "      <td>NaN</td>\n",
       "      <td>NaN</td>\n",
       "      <td>NaN</td>\n",
       "      <td>NaN</td>\n",
       "      <td>NaN</td>\n",
       "      <td>...</td>\n",
       "      <td>NaN</td>\n",
       "      <td>NaN</td>\n",
       "      <td>NaN</td>\n",
       "      <td>NaN</td>\n",
       "      <td>NaN</td>\n",
       "      <td>NaN</td>\n",
       "      <td>13.100290</td>\n",
       "      <td>14.410269</td>\n",
       "      <td>9.806334</td>\n",
       "      <td>4.389205</td>\n",
       "    </tr>\n",
       "    <tr>\n",
       "      <th>Andorra</th>\n",
       "      <td>NaN</td>\n",
       "      <td>NaN</td>\n",
       "      <td>NaN</td>\n",
       "      <td>NaN</td>\n",
       "      <td>NaN</td>\n",
       "      <td>NaN</td>\n",
       "      <td>NaN</td>\n",
       "      <td>NaN</td>\n",
       "      <td>NaN</td>\n",
       "      <td>NaN</td>\n",
       "      <td>...</td>\n",
       "      <td>NaN</td>\n",
       "      <td>NaN</td>\n",
       "      <td>NaN</td>\n",
       "      <td>NaN</td>\n",
       "      <td>NaN</td>\n",
       "      <td>NaN</td>\n",
       "      <td>0.767467</td>\n",
       "      <td>NaN</td>\n",
       "      <td>0.726513</td>\n",
       "      <td>0.726513</td>\n",
       "    </tr>\n",
       "    <tr>\n",
       "      <th>Angola</th>\n",
       "      <td>NaN</td>\n",
       "      <td>NaN</td>\n",
       "      <td>NaN</td>\n",
       "      <td>NaN</td>\n",
       "      <td>NaN</td>\n",
       "      <td>NaN</td>\n",
       "      <td>NaN</td>\n",
       "      <td>NaN</td>\n",
       "      <td>NaN</td>\n",
       "      <td>NaN</td>\n",
       "      <td>...</td>\n",
       "      <td>NaN</td>\n",
       "      <td>NaN</td>\n",
       "      <td>NaN</td>\n",
       "      <td>NaN</td>\n",
       "      <td>NaN</td>\n",
       "      <td>NaN</td>\n",
       "      <td>51.057260</td>\n",
       "      <td>NaN</td>\n",
       "      <td>48.206188</td>\n",
       "      <td>48.206188</td>\n",
       "    </tr>\n",
       "  </tbody>\n",
       "</table>\n",
       "<p>5 rows × 56 columns</p>\n",
       "</div>"
      ],
      "text/plain": [
       "                                  1950  1951  1952  1953  1954  1955  1956  \\\n",
       "Murder per 100,000, age adjusted                                             \n",
       "Afghanistan                        NaN   NaN   NaN   NaN   NaN   NaN   NaN   \n",
       "Albania                            NaN   NaN   NaN   NaN   NaN   NaN   NaN   \n",
       "Algeria                            NaN   NaN   NaN   NaN   NaN   NaN   NaN   \n",
       "Andorra                            NaN   NaN   NaN   NaN   NaN   NaN   NaN   \n",
       "Angola                             NaN   NaN   NaN   NaN   NaN   NaN   NaN   \n",
       "\n",
       "                                  1957  1958  1959  ...  1996  1997  1998  \\\n",
       "Murder per 100,000, age adjusted                    ...                     \n",
       "Afghanistan                        NaN   NaN   NaN  ...   NaN   NaN   NaN   \n",
       "Albania                            NaN   NaN   NaN  ...   NaN   NaN   NaN   \n",
       "Algeria                            NaN   NaN   NaN  ...   NaN   NaN   NaN   \n",
       "Andorra                            NaN   NaN   NaN  ...   NaN   NaN   NaN   \n",
       "Angola                             NaN   NaN   NaN  ...   NaN   NaN   NaN   \n",
       "\n",
       "                                  1999  2000  2001       2002       2003  \\\n",
       "Murder per 100,000, age adjusted                                           \n",
       "Afghanistan                        NaN   NaN   NaN   4.650731        NaN   \n",
       "Albania                            NaN   NaN   NaN   5.972975   8.115989   \n",
       "Algeria                            NaN   NaN   NaN  13.100290  14.410269   \n",
       "Andorra                            NaN   NaN   NaN   0.767467        NaN   \n",
       "Angola                             NaN   NaN   NaN  51.057260        NaN   \n",
       "\n",
       "                                       2004       2005  \n",
       "Murder per 100,000, age adjusted                        \n",
       "Afghanistan                        3.837318   3.837318  \n",
       "Albania                            6.681117   7.326701  \n",
       "Algeria                            9.806334   4.389205  \n",
       "Andorra                            0.726513   0.726513  \n",
       "Angola                            48.206188  48.206188  \n",
       "\n",
       "[5 rows x 56 columns]"
      ]
     },
     "execution_count": 8,
     "metadata": {},
     "output_type": "execute_result"
    }
   ],
   "source": [
    "df_murder.head()"
   ]
  },
  {
   "cell_type": "markdown",
   "metadata": {},
   "source": [
    "## B) Data Cleaning\n",
    "\n",
    "### Natural Disasters\n",
    "> To account for all natural disasters that occurred in each country, my goal is to generate a new CSV file where each cell contains the sum of all the natural disaster DataFrames.\n",
    "\n",
    "Let's examine the columns of each natural disaster DataFrame. There are 195 total countries in the world, so I am expecting there to be at most 195 rows."
   ]
  },
  {
   "cell_type": "code",
   "execution_count": 9,
   "metadata": {},
   "outputs": [
    {
     "name": "stdout",
     "output_type": "stream",
     "text": [
      "Drought killed (128, 39)\n",
      "Earthquake killed (97, 39)\n",
      "Epidemic killed (143, 38)\n",
      "Flood killed (182, 39)\n",
      "Storm killed (181, 39)\n",
      "Tsunami killed (18, 15)\n"
     ]
    }
   ],
   "source": [
    "for key, df in dict_nds.items():\n",
    "    #display (row, column) per DataFrame\n",
    "    print(df.index.name, df.shape)"
   ]
  },
  {
   "cell_type": "markdown",
   "metadata": {},
   "source": [
    "> It can be seen that the DataFrame for tsunamis is the least reported out of all the other natural disasters (accounting for only 18 countries), while the most documented natural disaster is floods, at 181 countries. This adds more ambiguity as to how we should generate our final CSV file accounting for all natural disasters in all countries.\n",
    "\n",
    "> Now there are two possibilities for approaching this:\n",
    "\n",
    "Approach 1) The missing countries means that no natural disasters occurred in them, and so it was not necessary to include them in their respective DataFrames.\n",
    "\n",
    "> Therefore **it is safe to set the values of the missing countries to 0 and generate the final CSV as a sum of all the DataFrames.**\n",
    "\n",
    "Approach 2) We do not know if any natural disasters occurred in the missing countries.\n",
    "\n",
    "> Therefore **we should focus only the countries in common who have no missing values.**\n",
    "\n",
    "I ended up picking **Approach 2** because as can be seen in the above df_drought DataFrame, there are values for 0 in countries and years where no earthquakes happened. The best conclusion I can come for the missing indexed countries is that there has been no data recorded for them, and therefore I cannot assume whether or not earthquakes ever occurred in the missing countries. This logic extends to the rest of the DataFrames for the natural disasters."
   ]
  },
  {
   "cell_type": "markdown",
   "metadata": {},
   "source": [
    "### *DROP/REPLACE NULLS*\n",
    "\n",
    "**Natural Disasters**"
   ]
  },
  {
   "cell_type": "code",
   "execution_count": 10,
   "metadata": {},
   "outputs": [
    {
     "name": "stdout",
     "output_type": "stream",
     "text": [
      "# NaN in drought killed : 0\n",
      "# NaN in earthquake killed : 0\n",
      "# NaN in epidemic killed : 0\n",
      "# NaN in flood killed : 0\n",
      "# NaN in storm killed : 0\n",
      "# NaN in tsunami killed : 248\n"
     ]
    }
   ],
   "source": [
    "#Display number of NaN values in each dataset\n",
    "for key, df in dict_nds.items():\n",
    "    #display (row, column) per DataFrame\n",
    "    print('# NaN in {} : {}'.format(key, df.isna().sum().sum()))"
   ]
  },
  {
   "cell_type": "markdown",
   "metadata": {},
   "source": [
    "**Only the tsunami dataset has null values.**"
   ]
  },
  {
   "cell_type": "code",
   "execution_count": 11,
   "metadata": {},
   "outputs": [],
   "source": [
    "#Drop nulls from tsunami dataset\n",
    "df_tsunami.dropna(inplace=True)"
   ]
  },
  {
   "cell_type": "code",
   "execution_count": 12,
   "metadata": {},
   "outputs": [
    {
     "data": {
      "text/plain": [
       "False"
      ]
     },
     "execution_count": 12,
     "metadata": {},
     "output_type": "execute_result"
    }
   ],
   "source": [
    "#Confirm changes\n",
    "df_tsunami.isna().any().any()"
   ]
  },
  {
   "cell_type": "markdown",
   "metadata": {},
   "source": [
    "**But hold up!**\n",
    "> Before we move on, let's check the first few rows of the tsunami data set:"
   ]
  },
  {
   "cell_type": "code",
   "execution_count": 13,
   "metadata": {},
   "outputs": [
    {
     "name": "stdout",
     "output_type": "stream",
     "text": [
      "0\n"
     ]
    },
    {
     "data": {
      "text/html": [
       "<div>\n",
       "<style scoped>\n",
       "    .dataframe tbody tr th:only-of-type {\n",
       "        vertical-align: middle;\n",
       "    }\n",
       "\n",
       "    .dataframe tbody tr th {\n",
       "        vertical-align: top;\n",
       "    }\n",
       "\n",
       "    .dataframe thead th {\n",
       "        text-align: right;\n",
       "    }\n",
       "</style>\n",
       "<table border=\"1\" class=\"dataframe\">\n",
       "  <thead>\n",
       "    <tr style=\"text-align: right;\">\n",
       "      <th></th>\n",
       "      <th>1979</th>\n",
       "      <th>1980</th>\n",
       "      <th>1995</th>\n",
       "      <th>1996</th>\n",
       "      <th>1997</th>\n",
       "      <th>1998</th>\n",
       "      <th>1999</th>\n",
       "      <th>2000</th>\n",
       "      <th>2001</th>\n",
       "      <th>2002</th>\n",
       "      <th>2003</th>\n",
       "      <th>2004</th>\n",
       "      <th>2005</th>\n",
       "      <th>2006</th>\n",
       "      <th>2007</th>\n",
       "    </tr>\n",
       "    <tr>\n",
       "      <th>Tsunami killed</th>\n",
       "      <th></th>\n",
       "      <th></th>\n",
       "      <th></th>\n",
       "      <th></th>\n",
       "      <th></th>\n",
       "      <th></th>\n",
       "      <th></th>\n",
       "      <th></th>\n",
       "      <th></th>\n",
       "      <th></th>\n",
       "      <th></th>\n",
       "      <th></th>\n",
       "      <th></th>\n",
       "      <th></th>\n",
       "      <th></th>\n",
       "    </tr>\n",
       "  </thead>\n",
       "  <tbody>\n",
       "  </tbody>\n",
       "</table>\n",
       "</div>"
      ],
      "text/plain": [
       "Empty DataFrame\n",
       "Columns: [1979, 1980, 1995, 1996, 1997, 1998, 1999, 2000, 2001, 2002, 2003, 2004, 2005, 2006, 2007]\n",
       "Index: []"
      ]
     },
     "execution_count": 13,
     "metadata": {},
     "output_type": "execute_result"
    }
   ],
   "source": [
    "#Check how many values exist in the tsunami data set\n",
    "print(df_tsunami.count().sum())\n",
    "\n",
    "df_tsunami"
   ]
  },
  {
   "cell_type": "markdown",
   "metadata": {},
   "source": [
    "The above results show that only the last DataFrame for tsunamis contains null values. \n",
    "\n",
    "> The tsunami dataset is completely empty, which means we'll have to discard it. This makes me come to the conclusion that ***every single row in the data set contained a null value, which means that after dropping all the null values, the dataset became completely empty.***\n",
    "\n",
    "> I know it's painful to have to discard an entire DataFrame, but at least that is better than incorporating largely unreliable data into our final analysis.\n",
    "\n",
    "Before moving on, let's update our NumPy array to exclude the tsunami dataset."
   ]
  },
  {
   "cell_type": "code",
   "execution_count": 14,
   "metadata": {},
   "outputs": [
    {
     "data": {
      "text/plain": [
       "5"
      ]
     },
     "execution_count": 14,
     "metadata": {},
     "output_type": "execute_result"
    }
   ],
   "source": [
    "#Drop tsunami dataset\n",
    "dict_nds.pop('tsunami killed', None)\n",
    "\n",
    "#check changes\n",
    "len(dict_nds)"
   ]
  },
  {
   "cell_type": "markdown",
   "metadata": {},
   "source": [
    "There are only 5 DataFrames in the dictionary instead of 6, so we can move on.\n",
    "\n",
    "**Total Forest Area**"
   ]
  },
  {
   "cell_type": "code",
   "execution_count": 15,
   "metadata": {},
   "outputs": [
    {
     "name": "stdout",
     "output_type": "stream",
     "text": [
      "There are 21 null values in the forest DataFrame.\n"
     ]
    }
   ],
   "source": [
    "num_nulls = df_forest.isna().sum().sum()\n",
    "print('There are {} null values in the forest DataFrame.'.format(num_nulls))"
   ]
  },
  {
   "cell_type": "code",
   "execution_count": 16,
   "metadata": {},
   "outputs": [
    {
     "name": "stdout",
     "output_type": "stream",
     "text": [
      "There are 193 countries recorded in the forest dataset.\n"
     ]
    }
   ],
   "source": [
    "print('There are {} countries recorded in the forest dataset.'.format(df_forest.index.nunique()))"
   ]
  },
  {
   "cell_type": "code",
   "execution_count": 17,
   "metadata": {},
   "outputs": [
    {
     "data": {
      "text/html": [
       "<div>\n",
       "<style scoped>\n",
       "    .dataframe tbody tr th:only-of-type {\n",
       "        vertical-align: middle;\n",
       "    }\n",
       "\n",
       "    .dataframe tbody tr th {\n",
       "        vertical-align: top;\n",
       "    }\n",
       "\n",
       "    .dataframe thead th {\n",
       "        text-align: right;\n",
       "    }\n",
       "</style>\n",
       "<table border=\"1\" class=\"dataframe\">\n",
       "  <thead>\n",
       "    <tr style=\"text-align: right;\">\n",
       "      <th></th>\n",
       "      <th>1990</th>\n",
       "      <th>1991</th>\n",
       "      <th>1992</th>\n",
       "      <th>1993</th>\n",
       "      <th>1994</th>\n",
       "      <th>1995</th>\n",
       "      <th>1996</th>\n",
       "      <th>1997</th>\n",
       "      <th>1998</th>\n",
       "      <th>1999</th>\n",
       "      <th>...</th>\n",
       "      <th>2006</th>\n",
       "      <th>2007</th>\n",
       "      <th>2008</th>\n",
       "      <th>2009</th>\n",
       "      <th>2010</th>\n",
       "      <th>2011</th>\n",
       "      <th>2012</th>\n",
       "      <th>2013</th>\n",
       "      <th>2014</th>\n",
       "      <th>2015</th>\n",
       "    </tr>\n",
       "    <tr>\n",
       "      <th>country</th>\n",
       "      <th></th>\n",
       "      <th></th>\n",
       "      <th></th>\n",
       "      <th></th>\n",
       "      <th></th>\n",
       "      <th></th>\n",
       "      <th></th>\n",
       "      <th></th>\n",
       "      <th></th>\n",
       "      <th></th>\n",
       "      <th></th>\n",
       "      <th></th>\n",
       "      <th></th>\n",
       "      <th></th>\n",
       "      <th></th>\n",
       "      <th></th>\n",
       "      <th></th>\n",
       "      <th></th>\n",
       "      <th></th>\n",
       "      <th></th>\n",
       "      <th></th>\n",
       "    </tr>\n",
       "  </thead>\n",
       "  <tbody>\n",
       "    <tr>\n",
       "      <th>South Sudan</th>\n",
       "      <td>NaN</td>\n",
       "      <td>NaN</td>\n",
       "      <td>NaN</td>\n",
       "      <td>NaN</td>\n",
       "      <td>NaN</td>\n",
       "      <td>NaN</td>\n",
       "      <td>NaN</td>\n",
       "      <td>NaN</td>\n",
       "      <td>NaN</td>\n",
       "      <td>NaN</td>\n",
       "      <td>...</td>\n",
       "      <td>NaN</td>\n",
       "      <td>NaN</td>\n",
       "      <td>NaN</td>\n",
       "      <td>NaN</td>\n",
       "      <td>NaN</td>\n",
       "      <td>71600.0</td>\n",
       "      <td>71600.0</td>\n",
       "      <td>71600.0</td>\n",
       "      <td>71600.0</td>\n",
       "      <td>71600.0</td>\n",
       "    </tr>\n",
       "  </tbody>\n",
       "</table>\n",
       "<p>1 rows × 26 columns</p>\n",
       "</div>"
      ],
      "text/plain": [
       "             1990  1991  1992  1993  1994  1995  1996  1997  1998  1999  ...  \\\n",
       "country                                                                  ...   \n",
       "South Sudan   NaN   NaN   NaN   NaN   NaN   NaN   NaN   NaN   NaN   NaN  ...   \n",
       "\n",
       "             2006  2007  2008  2009  2010     2011     2012     2013     2014  \\\n",
       "country                                                                         \n",
       "South Sudan   NaN   NaN   NaN   NaN   NaN  71600.0  71600.0  71600.0  71600.0   \n",
       "\n",
       "                2015  \n",
       "country               \n",
       "South Sudan  71600.0  \n",
       "\n",
       "[1 rows x 26 columns]"
      ]
     },
     "execution_count": 17,
     "metadata": {},
     "output_type": "execute_result"
    }
   ],
   "source": [
    "#check which rows have null values\n",
    "df_forest[df_forest.isna().any(axis = 1)]"
   ]
  },
  {
   "cell_type": "markdown",
   "metadata": {},
   "source": [
    "> Only South Sudan has NaN values, so we can safely remove 1 country for our final Dataset."
   ]
  },
  {
   "cell_type": "code",
   "execution_count": 18,
   "metadata": {},
   "outputs": [],
   "source": [
    "#drop South Sudan\n",
    "df_forest.drop(index = 'South Sudan', inplace = True)"
   ]
  },
  {
   "cell_type": "code",
   "execution_count": 19,
   "metadata": {},
   "outputs": [
    {
     "data": {
      "text/plain": [
       "False"
      ]
     },
     "execution_count": 19,
     "metadata": {},
     "output_type": "execute_result"
    }
   ],
   "source": [
    "#verify South Sudan no longer exists from forest dataframe\n",
    "(df_forest.index == 'South Sudan').any(axis = 0)"
   ]
  },
  {
   "cell_type": "markdown",
   "metadata": {},
   "source": [
    "**Obesity Rates** : *Female*"
   ]
  },
  {
   "cell_type": "code",
   "execution_count": 20,
   "metadata": {},
   "outputs": [
    {
     "data": {
      "text/plain": [
       "0"
      ]
     },
     "execution_count": 20,
     "metadata": {},
     "output_type": "execute_result"
    }
   ],
   "source": [
    "df_bmi_female.isna().sum().sum()"
   ]
  },
  {
   "cell_type": "markdown",
   "metadata": {},
   "source": [
    "***There are 0 NaN values for female obesity rates throughout all years, so we can move on to male obesity rates.***"
   ]
  },
  {
   "cell_type": "code",
   "execution_count": 21,
   "metadata": {},
   "outputs": [
    {
     "data": {
      "text/plain": [
       "0"
      ]
     },
     "execution_count": 21,
     "metadata": {},
     "output_type": "execute_result"
    }
   ],
   "source": [
    "df_bmi_male.isna().sum().sum()"
   ]
  },
  {
   "cell_type": "markdown",
   "metadata": {},
   "source": [
    "***There are also 0 NaN values for male obesity rates throughout all years, so we can keep these two datasets as they are.***\n",
    "\n",
    "**Murder Rates**"
   ]
  },
  {
   "cell_type": "code",
   "execution_count": 22,
   "metadata": {},
   "outputs": [
    {
     "name": "stdout",
     "output_type": "stream",
     "text": [
      "There are 8521 missing records from our murder rates dataset.\n"
     ]
    }
   ],
   "source": [
    "df_murder.isna().sum().sum()\n",
    "print('There are {} missing records from our murder rates dataset.'.format(df_murder.isna().sum().sum()))"
   ]
  },
  {
   "cell_type": "code",
   "execution_count": 23,
   "metadata": {},
   "outputs": [
    {
     "data": {
      "text/plain": [
       "206"
      ]
     },
     "execution_count": 23,
     "metadata": {},
     "output_type": "execute_result"
    }
   ],
   "source": [
    "#check for total number of countries\n",
    "df_murder.index.nunique()"
   ]
  },
  {
   "cell_type": "code",
   "execution_count": 24,
   "metadata": {},
   "outputs": [
    {
     "data": {
      "text/plain": [
       "198"
      ]
     },
     "execution_count": 24,
     "metadata": {},
     "output_type": "execute_result"
    }
   ],
   "source": [
    "#check how many countries\n",
    "df_murder[df_murder.isna().any(axis = 1)].index.nunique()"
   ]
  },
  {
   "cell_type": "markdown",
   "metadata": {},
   "source": [
    "***Out of 206 countries, 198 have missing records. This means that murder rates are the most unreliable and incomplete variable to examine. We also cannot just drop 198 countries from the entire final dataframe.***\n",
    "\n",
    "To handle these missing values, I decided I will just **keep the NaN values** and populate our final DataFrame with NaN values for murder rates. \n",
    "- When making conclusions based on murder rates, I will focus only on the countries that do not have NaN values for murder rates and the 2nd variable I'm examining.\n",
    "- It's unreasonable to exclude the majority 198 of countries in my final DataFrame when there are many more variables than murder rates to examine."
   ]
  },
  {
   "cell_type": "markdown",
   "metadata": {},
   "source": [
    "### *Dedupe Data*\n",
    "**Natural Disasters**"
   ]
  },
  {
   "cell_type": "code",
   "execution_count": 25,
   "metadata": {},
   "outputs": [
    {
     "name": "stdout",
     "output_type": "stream",
     "text": [
      "101\n",
      "21\n",
      "21\n",
      "30\n",
      "29\n"
     ]
    }
   ],
   "source": [
    "#Check for number of duplicate data per row\n",
    "for key, df in dict_nds.items():\n",
    "    print(df.duplicated().sum())"
   ]
  },
  {
   "cell_type": "markdown",
   "metadata": {},
   "source": [
    "> But wait, we don't want to drop duplicate data just yet. As we know, many of the DataFrames are populated with rows containing only 0's. Before we drop duplicate rows, let's make sure that they are all actually **zeroes** and not just rows populated with the same repeating values."
   ]
  },
  {
   "cell_type": "code",
   "execution_count": 26,
   "metadata": {},
   "outputs": [
    {
     "name": "stdout",
     "output_type": "stream",
     "text": [
      "False\n",
      "True\n",
      "True\n",
      "False\n",
      "True\n"
     ]
    }
   ],
   "source": [
    "#Display all duplicated rows in each DataFrame\n",
    "for key, df in dict_nds.items():\n",
    "    #return True if the dataset contains a value that's not 0\n",
    "    print(df[df.duplicated(keep=False)].any().any())\n",
    "    \n",
    "    \n",
    "# print(df[1][df[1].duplicated(keep=False)])"
   ]
  },
  {
   "cell_type": "markdown",
   "metadata": {},
   "source": [
    "> Some of the DataFrames have values that are greater than 0. But I've come to realize I don't necessarily care about the duplicate values themselves. The real question is: **are they repeating countries?** \n"
   ]
  },
  {
   "cell_type": "code",
   "execution_count": 27,
   "metadata": {},
   "outputs": [
    {
     "name": "stdout",
     "output_type": "stream",
     "text": [
      "False\n",
      "False\n",
      "False\n",
      "False\n",
      "False\n"
     ]
    }
   ],
   "source": [
    "#Check if any of the DataFrames have duplicate index 'country'\n",
    "for key, df in dict_nds.items():\n",
    "    #return True if the dataset contains a repeating country\n",
    "    print(df.index.duplicated().sum().any())"
   ]
  },
  {
   "cell_type": "markdown",
   "metadata": {},
   "source": [
    "> None of the DataFrames have repeating countries for indexes. This is good news! Our data has turned out to be much more reliable than expected.\n",
    "\n",
    "Now we can decide to drop the duplicated rows or not, but I have **ultimately decided not to.** This is an exceptional case. Dropping the rows could harm our data reliability in the end, because dropping duplicates means we would be getting rid of natural disaster scores for entire countries in the long run.\n",
    "\n",
    "### Because we established that duplicate countries indicates *real* duplicate data instead of duplcate countries, I'll only be examining the country indices from now on.\n",
    "\n",
    "**Total Forest Area**"
   ]
  },
  {
   "cell_type": "code",
   "execution_count": 28,
   "metadata": {},
   "outputs": [
    {
     "data": {
      "text/plain": [
       "False"
      ]
     },
     "execution_count": 28,
     "metadata": {},
     "output_type": "execute_result"
    }
   ],
   "source": [
    "#check for repeating countries: return False if none\n",
    "df_forest.index.duplicated().any()"
   ]
  },
  {
   "cell_type": "markdown",
   "metadata": {},
   "source": [
    "**Obesity Rates**"
   ]
  },
  {
   "cell_type": "code",
   "execution_count": 29,
   "metadata": {},
   "outputs": [
    {
     "name": "stdout",
     "output_type": "stream",
     "text": [
      "False\n",
      "False\n"
     ]
    }
   ],
   "source": [
    "#check for repeating countries: return False if none\n",
    "print(df_bmi_female.index.duplicated().any())\n",
    "print(df_bmi_male.index.duplicated().any())"
   ]
  },
  {
   "cell_type": "markdown",
   "metadata": {},
   "source": [
    "**Murder Rates**"
   ]
  },
  {
   "cell_type": "code",
   "execution_count": 30,
   "metadata": {},
   "outputs": [
    {
     "name": "stdout",
     "output_type": "stream",
     "text": [
      "False\n"
     ]
    }
   ],
   "source": [
    "#check for repeating countries: return False if none\n",
    "print(df_murder.index.duplicated().any())"
   ]
  },
  {
   "cell_type": "markdown",
   "metadata": {},
   "source": [
    "### There are absolutely no duplicate records in any of our DataFrames. This is good news! \n",
    "\n",
    "### *FIX DATA TYPES*\n",
    "\n",
    "**Natural Disasters**\n",
    "\n",
    "Counting the number of natural disaster occurrences means handling **discrete variables**, so it would make the most sense to convert all of the values in every DataFrame to integers."
   ]
  },
  {
   "cell_type": "code",
   "execution_count": 31,
   "metadata": {},
   "outputs": [
    {
     "name": "stdout",
     "output_type": "stream",
     "text": [
      "[dtype('int64')]\n",
      "[dtype('int64')]\n",
      "[dtype('int64')]\n",
      "[dtype('int64')]\n",
      "[dtype('int64')]\n"
     ]
    }
   ],
   "source": [
    "#Display data types of each DataFrame, besides 'country'\n",
    "for key, df in dict_nds.items():\n",
    "    print(np.unique(df.dtypes))"
   ]
  },
  {
   "cell_type": "markdown",
   "metadata": {},
   "source": [
    "All of the columns contain only integer values, so we do not have to perform any data type conversion or extraction."
   ]
  },
  {
   "cell_type": "code",
   "execution_count": 32,
   "metadata": {},
   "outputs": [
    {
     "data": {
      "text/plain": [
       "array(['1970', '1971', '1972', '1974', '1975', '1976', '1977', '1978',\n",
       "       '1979', '1980', '1981', '1982', '1983', '1984', '1985', '1986',\n",
       "       '1987', '1988', '1989', '1990', '1991', '1992', '1993', '1994',\n",
       "       '1995', '1996', '1997', '1998', '1999', '2000', '2001', '2002',\n",
       "       '2003', '2004', '2005', '2006', '2007', '2008'], dtype=object)"
      ]
     },
     "execution_count": 32,
     "metadata": {},
     "output_type": "execute_result"
    }
   ],
   "source": [
    "from functools import reduce\n",
    "\n",
    "column_names = []\n",
    "for key, df in dict_nds.items():\n",
    "    column_names.append(df.columns.values)\n",
    "\n",
    "#find years in common\n",
    "reduce(np.intersect1d, column_names)"
   ]
  },
  {
   "cell_type": "markdown",
   "metadata": {},
   "source": [
    "The year 1973 is missing from one or more of the DataFrames. After manually scrolling through the previous years, we can see that `df_epidemic` is the one with the missing year."
   ]
  },
  {
   "cell_type": "code",
   "execution_count": 33,
   "metadata": {},
   "outputs": [
    {
     "data": {
      "text/plain": [
       "Index(['1971', '1972', '1974', '1975'], dtype='object')"
      ]
     },
     "execution_count": 33,
     "metadata": {},
     "output_type": "execute_result"
    }
   ],
   "source": [
    "#verify 1973 does not exist\n",
    "df_epidemic.columns[1:5]"
   ]
  },
  {
   "cell_type": "markdown",
   "metadata": {},
   "source": [
    "**Total Forest Area**\n",
    "\n",
    "Forest area, BMI ratings, and murder rates are all ***continuous variables***, so it's best to keep them as ***floats.***"
   ]
  },
  {
   "cell_type": "code",
   "execution_count": 34,
   "metadata": {},
   "outputs": [
    {
     "data": {
      "text/plain": [
       "array([dtype('float64')], dtype=object)"
      ]
     },
     "execution_count": 34,
     "metadata": {},
     "output_type": "execute_result"
    }
   ],
   "source": [
    "#check unique types\n",
    "df_forest.dtypes.unique()"
   ]
  },
  {
   "cell_type": "markdown",
   "metadata": {},
   "source": [
    "**Obesity Rates**"
   ]
  },
  {
   "cell_type": "code",
   "execution_count": 35,
   "metadata": {},
   "outputs": [
    {
     "data": {
      "text/plain": [
       "array([dtype('float64')], dtype=object)"
      ]
     },
     "execution_count": 35,
     "metadata": {},
     "output_type": "execute_result"
    }
   ],
   "source": [
    "#male obesity rates\n",
    "df_bmi_male.dtypes.unique()"
   ]
  },
  {
   "cell_type": "code",
   "execution_count": 36,
   "metadata": {},
   "outputs": [
    {
     "data": {
      "text/plain": [
       "array([dtype('float64')], dtype=object)"
      ]
     },
     "execution_count": 36,
     "metadata": {},
     "output_type": "execute_result"
    }
   ],
   "source": [
    "#female obesity rates\n",
    "df_bmi_female.dtypes.unique()"
   ]
  },
  {
   "cell_type": "markdown",
   "metadata": {},
   "source": [
    "**Murder Rates**"
   ]
  },
  {
   "cell_type": "code",
   "execution_count": 37,
   "metadata": {},
   "outputs": [
    {
     "data": {
      "text/plain": [
       "array([dtype('float64')], dtype=object)"
      ]
     },
     "execution_count": 37,
     "metadata": {},
     "output_type": "execute_result"
    }
   ],
   "source": [
    "df_murder.dtypes.unique()"
   ]
  },
  {
   "cell_type": "markdown",
   "metadata": {},
   "source": [
    "### For natural disasters, all column types have been converted to integer type due to their values being discrete in nature. For all other datasets, however, all continuous types have been preserved as floats.\n",
    "\n",
    "### ALL: *Convert index to a column named 'country'*"
   ]
  },
  {
   "cell_type": "code",
   "execution_count": 38,
   "metadata": {},
   "outputs": [
    {
     "data": {
      "text/plain": [
       "dict_keys(['drought killed', 'earthquake killed', 'epidemic killed', 'flood killed', 'storm killed', 'total forest area', 'male bmi', 'female bmi', 'murder rate'])"
      ]
     },
     "execution_count": 38,
     "metadata": {},
     "output_type": "execute_result"
    }
   ],
   "source": [
    "#create dictionary with all datasets\n",
    "dict_non_nds = {'total forest area' : df_forest,\n",
    "               'male bmi' : df_bmi_male,\n",
    "               'female bmi' : df_bmi_female,\n",
    "               'murder rate' : df_murder\n",
    "}\n",
    "\n",
    "dict_all = {**dict_nds, **dict_non_nds}\n",
    "\n",
    "#verify datasets have been added\n",
    "dict_all.keys()"
   ]
  },
  {
   "cell_type": "code",
   "execution_count": 39,
   "metadata": {},
   "outputs": [
    {
     "name": "stdout",
     "output_type": "stream",
     "text": [
      "True\n",
      "True\n",
      "True\n",
      "True\n",
      "True\n",
      "True\n",
      "True\n",
      "True\n",
      "True\n"
     ]
    }
   ],
   "source": [
    "#move index of countries to its own column\n",
    "\n",
    "for key, df in dict_all.items():\n",
    "    #rename moved column name to 'country'\n",
    "    new_columns = np.insert(df.columns.values, 0, 'country', axis = 0)\n",
    "    df.reset_index(inplace = True)\n",
    "    df.columns = new_columns\n",
    "    \n",
    "    #verify that all dfs have column named 'country'\n",
    "    print(np.any(df.columns.values == 'country'))"
   ]
  },
  {
   "cell_type": "markdown",
   "metadata": {},
   "source": [
    "### ALL: *MELT DATA*\n",
    "\n",
    "***Melt all year columns under a single column named 'year'***"
   ]
  },
  {
   "cell_type": "code",
   "execution_count": 40,
   "metadata": {},
   "outputs": [
    {
     "name": "stdout",
     "output_type": "stream",
     "text": [
      "True\n",
      "True\n",
      "True\n",
      "True\n",
      "True\n",
      "True\n",
      "True\n",
      "True\n",
      "True\n"
     ]
    }
   ],
   "source": [
    "#assign new column names as the current dictionary key's pythonic snake case\n",
    "for key, df in dict_all.items():\n",
    "    dict_all[key] = pd.melt(df, id_vars = 'country', var_name = 'year', value_name = key.replace(' ', '_'))\n",
    "    \n",
    "    #verify that all dfs have a column named 'year'\n",
    "    print(np.any(dict_all[key].columns.values == 'year'))"
   ]
  },
  {
   "cell_type": "markdown",
   "metadata": {},
   "source": [
    "### ALL: *OUTER MERGE DATASETS*\n",
    "> **Main idea:** We are using an ***outer merge*** because our data implies that each country in each DataFrame satisfies the following conditions:\n",
    "\n",
    "1) contains reliable non-null data\n",
    "\n",
    "2) represents the true number of its respective natural disaster per year\n",
    "\n",
    "> Consider that we are merging df1 and df2.\n",
    "\n",
    "If df1 contains countries that df2 does not AND df2 contains countries that df1 does not, we want all of those countries to show up in the final result.\n",
    "\n",
    "If df2 contains years that df2 does not AND df2 contains years that df1 does not, we want all of those years to show up in the final result anyway.\n",
    "\n",
    "**Natural Disasters**"
   ]
  },
  {
   "cell_type": "code",
   "execution_count": 74,
   "metadata": {},
   "outputs": [],
   "source": [
    "#drop indices from all datasets to consistent merging\n",
    "for key, df in dict_all.items():\n",
    "    dict_all[key].reset_index(drop = True, inplace = True)"
   ]
  },
  {
   "cell_type": "code",
   "execution_count": 75,
   "metadata": {},
   "outputs": [],
   "source": [
    "#merge all natural disaster datasets\n",
    "df_all = pd.concat(list(dict_all.values()), sort = True, join = 'outer')"
   ]
  },
  {
   "cell_type": "markdown",
   "metadata": {},
   "source": [
    "### There is an abundance of NaN values in our clean DataFrame, but I decided to ultimately keep them. This is because:\n",
    "\n",
    "1. dropping all rows with NaN values would ultimately render an empty DataFrame,\n",
    "2. replacing all NaN values with 0s would heavily impact the skews, calculations, and analysis of our data.\n",
    "\n",
    "### Check that our clean data is consistent with the original data\n",
    "\n",
    "> non-updated DataFrames in `dict_all` vs. clean DataFrames in `df_all`"
   ]
  },
  {
   "cell_type": "code",
   "execution_count": 85,
   "metadata": {},
   "outputs": [
    {
     "name": "stdout",
     "output_type": "stream",
     "text": [
      "True\n",
      "True\n",
      "True\n",
      "True\n",
      "True\n",
      "True\n",
      "True\n",
      "True\n",
      "True\n"
     ]
    }
   ],
   "source": [
    "#isolate old and new value counts\n",
    "for key, df in dict_all.items():\n",
    "    column = key.replace(' ', '_')\n",
    "    old_counts = df[column].value_counts().sort_index(ascending = True).values\n",
    "    new_counts = df_all[column].value_counts().sort_index(ascending = True).values\n",
    "    \n",
    "    #return True if all old and new counts are consistent\n",
    "    print(~(np.any((old_counts == new_counts) == False)))"
   ]
  },
  {
   "cell_type": "markdown",
   "metadata": {},
   "source": [
    "### All of our pre- and post- value counts are consistent, so we know our data wasn't lost/altered in any way.\n",
    "\n",
    "## Reorder columns\n",
    "> Reorder the columns as so: *country, year, natural disasters, forest area, BMI ratings, murder rates*\n",
    "\n"
   ]
  },
  {
   "cell_type": "code",
   "execution_count": 52,
   "metadata": {},
   "outputs": [
    {
     "data": {
      "text/html": [
       "<div>\n",
       "<style scoped>\n",
       "    .dataframe tbody tr th:only-of-type {\n",
       "        vertical-align: middle;\n",
       "    }\n",
       "\n",
       "    .dataframe tbody tr th {\n",
       "        vertical-align: top;\n",
       "    }\n",
       "\n",
       "    .dataframe thead th {\n",
       "        text-align: right;\n",
       "    }\n",
       "</style>\n",
       "<table border=\"1\" class=\"dataframe\">\n",
       "  <thead>\n",
       "    <tr style=\"text-align: right;\">\n",
       "      <th></th>\n",
       "      <th>country</th>\n",
       "      <th>drought_killed</th>\n",
       "      <th>earthquake_killed</th>\n",
       "      <th>epidemic_killed</th>\n",
       "      <th>female_bmi</th>\n",
       "      <th>flood_killed</th>\n",
       "      <th>male_bmi</th>\n",
       "      <th>murder_rate</th>\n",
       "      <th>storm_killed</th>\n",
       "      <th>total_forest_area</th>\n",
       "      <th>year</th>\n",
       "    </tr>\n",
       "  </thead>\n",
       "  <tbody>\n",
       "    <tr>\n",
       "      <th>0</th>\n",
       "      <td>Afghanistan</td>\n",
       "      <td>0.0</td>\n",
       "      <td>0.0</td>\n",
       "      <td>0.0</td>\n",
       "      <td>0.0</td>\n",
       "      <td>0.0</td>\n",
       "      <td>0.0</td>\n",
       "      <td>NaN</td>\n",
       "      <td>0.0</td>\n",
       "      <td>0.0</td>\n",
       "      <td>1970</td>\n",
       "    </tr>\n",
       "  </tbody>\n",
       "</table>\n",
       "</div>"
      ],
      "text/plain": [
       "       country  drought_killed  earthquake_killed  epidemic_killed  \\\n",
       "0  Afghanistan             0.0                0.0              0.0   \n",
       "\n",
       "   female_bmi  flood_killed  male_bmi  murder_rate  storm_killed  \\\n",
       "0         0.0           0.0       0.0          NaN           0.0   \n",
       "\n",
       "   total_forest_area  year  \n",
       "0                0.0  1970  "
      ]
     },
     "execution_count": 52,
     "metadata": {},
     "output_type": "execute_result"
    }
   ],
   "source": [
    "df_all.head(1)"
   ]
  },
  {
   "cell_type": "code",
   "execution_count": 76,
   "metadata": {},
   "outputs": [],
   "source": [
    "#declare column order\n",
    "\n",
    "cols_order = ['country', 'year',\n",
    "              'drought_killed', 'earthquake_killed', 'epidemic_killed', 'flood_killed', 'storm_killed',\n",
    "              'total_forest_area',\n",
    "              'female_bmi', 'male_bmi',\n",
    "              'murder_rate'\n",
    "             ]"
   ]
  },
  {
   "cell_type": "code",
   "execution_count": 77,
   "metadata": {},
   "outputs": [],
   "source": [
    "#reassign column order\n",
    "df_all = df_all[cols_order]"
   ]
  },
  {
   "cell_type": "code",
   "execution_count": 78,
   "metadata": {},
   "outputs": [
    {
     "data": {
      "text/html": [
       "<div>\n",
       "<style scoped>\n",
       "    .dataframe tbody tr th:only-of-type {\n",
       "        vertical-align: middle;\n",
       "    }\n",
       "\n",
       "    .dataframe tbody tr th {\n",
       "        vertical-align: top;\n",
       "    }\n",
       "\n",
       "    .dataframe thead th {\n",
       "        text-align: right;\n",
       "    }\n",
       "</style>\n",
       "<table border=\"1\" class=\"dataframe\">\n",
       "  <thead>\n",
       "    <tr style=\"text-align: right;\">\n",
       "      <th></th>\n",
       "      <th>country</th>\n",
       "      <th>year</th>\n",
       "      <th>drought_killed</th>\n",
       "      <th>earthquake_killed</th>\n",
       "      <th>epidemic_killed</th>\n",
       "      <th>flood_killed</th>\n",
       "      <th>storm_killed</th>\n",
       "      <th>total_forest_area</th>\n",
       "      <th>female_bmi</th>\n",
       "      <th>male_bmi</th>\n",
       "      <th>murder_rate</th>\n",
       "    </tr>\n",
       "  </thead>\n",
       "  <tbody>\n",
       "    <tr>\n",
       "      <th>0</th>\n",
       "      <td>Afghanistan</td>\n",
       "      <td>1970</td>\n",
       "      <td>0.0</td>\n",
       "      <td>NaN</td>\n",
       "      <td>NaN</td>\n",
       "      <td>NaN</td>\n",
       "      <td>NaN</td>\n",
       "      <td>NaN</td>\n",
       "      <td>NaN</td>\n",
       "      <td>NaN</td>\n",
       "      <td>NaN</td>\n",
       "    </tr>\n",
       "  </tbody>\n",
       "</table>\n",
       "</div>"
      ],
      "text/plain": [
       "       country  year  drought_killed  earthquake_killed  epidemic_killed  \\\n",
       "0  Afghanistan  1970             0.0                NaN              NaN   \n",
       "\n",
       "   flood_killed  storm_killed  total_forest_area  female_bmi  male_bmi  \\\n",
       "0           NaN           NaN                NaN         NaN       NaN   \n",
       "\n",
       "   murder_rate  \n",
       "0          NaN  "
      ]
     },
     "execution_count": 78,
     "metadata": {},
     "output_type": "execute_result"
    }
   ],
   "source": [
    "#verify change\n",
    "df_all.head(1)"
   ]
  },
  {
   "cell_type": "markdown",
   "metadata": {},
   "source": [
    "## Store clean dataframe"
   ]
  },
  {
   "cell_type": "code",
   "execution_count": 80,
   "metadata": {},
   "outputs": [],
   "source": [
    "df_all.to_csv('./data/mindgap_all.csv', encoding = 'utf-8', index = False)"
   ]
  },
  {
   "cell_type": "markdown",
   "metadata": {},
   "source": [
    "<a id='eda'></a>\n",
    "# III) Exploring the Data\n",
    "\n",
    "## Load Data"
   ]
  },
  {
   "cell_type": "code",
   "execution_count": 81,
   "metadata": {},
   "outputs": [],
   "source": [
    "df_mg = pd.read_csv('./data/mindgap_all.csv')"
   ]
  },
  {
   "cell_type": "markdown",
   "metadata": {},
   "source": [
    "## Explore"
   ]
  },
  {
   "cell_type": "code",
   "execution_count": 82,
   "metadata": {},
   "outputs": [
    {
     "data": {
      "text/html": [
       "<div>\n",
       "<style scoped>\n",
       "    .dataframe tbody tr th:only-of-type {\n",
       "        vertical-align: middle;\n",
       "    }\n",
       "\n",
       "    .dataframe tbody tr th {\n",
       "        vertical-align: top;\n",
       "    }\n",
       "\n",
       "    .dataframe thead th {\n",
       "        text-align: right;\n",
       "    }\n",
       "</style>\n",
       "<table border=\"1\" class=\"dataframe\">\n",
       "  <thead>\n",
       "    <tr style=\"text-align: right;\">\n",
       "      <th></th>\n",
       "      <th>year</th>\n",
       "      <th>drought_killed</th>\n",
       "      <th>earthquake_killed</th>\n",
       "      <th>epidemic_killed</th>\n",
       "      <th>flood_killed</th>\n",
       "      <th>storm_killed</th>\n",
       "      <th>total_forest_area</th>\n",
       "      <th>female_bmi</th>\n",
       "      <th>male_bmi</th>\n",
       "      <th>murder_rate</th>\n",
       "    </tr>\n",
       "  </thead>\n",
       "  <tbody>\n",
       "    <tr>\n",
       "      <th>count</th>\n",
       "      <td>56436.000000</td>\n",
       "      <td>4992.000000</td>\n",
       "      <td>3783.000000</td>\n",
       "      <td>5434.000000</td>\n",
       "      <td>7098.000000</td>\n",
       "      <td>7059.000000</td>\n",
       "      <td>4.992000e+03</td>\n",
       "      <td>5771.000000</td>\n",
       "      <td>5771.000000</td>\n",
       "      <td>3015.000000</td>\n",
       "    </tr>\n",
       "    <tr>\n",
       "      <th>mean</th>\n",
       "      <td>1988.906549</td>\n",
       "      <td>135.740585</td>\n",
       "      <td>218.106265</td>\n",
       "      <td>35.921973</td>\n",
       "      <td>35.082840</td>\n",
       "      <td>111.081598</td>\n",
       "      <td>2.104528e+05</td>\n",
       "      <td>24.674888</td>\n",
       "      <td>24.007244</td>\n",
       "      <td>6.646096</td>\n",
       "    </tr>\n",
       "    <tr>\n",
       "      <th>std</th>\n",
       "      <td>13.575431</td>\n",
       "      <td>5157.834533</td>\n",
       "      <td>4654.818243</td>\n",
       "      <td>292.167925</td>\n",
       "      <td>527.328405</td>\n",
       "      <td>4286.325785</td>\n",
       "      <td>7.865677e+05</td>\n",
       "      <td>2.622642</td>\n",
       "      <td>2.311251</td>\n",
       "      <td>10.445316</td>\n",
       "    </tr>\n",
       "    <tr>\n",
       "      <th>min</th>\n",
       "      <td>1950.000000</td>\n",
       "      <td>0.000000</td>\n",
       "      <td>0.000000</td>\n",
       "      <td>0.000000</td>\n",
       "      <td>0.000000</td>\n",
       "      <td>0.000000</td>\n",
       "      <td>0.000000e+00</td>\n",
       "      <td>18.471660</td>\n",
       "      <td>19.013940</td>\n",
       "      <td>0.000000</td>\n",
       "    </tr>\n",
       "    <tr>\n",
       "      <th>25%</th>\n",
       "      <td>1980.000000</td>\n",
       "      <td>0.000000</td>\n",
       "      <td>0.000000</td>\n",
       "      <td>0.000000</td>\n",
       "      <td>0.000000</td>\n",
       "      <td>0.000000</td>\n",
       "      <td>3.340000e+03</td>\n",
       "      <td>22.696370</td>\n",
       "      <td>21.871030</td>\n",
       "      <td>1.099403</td>\n",
       "    </tr>\n",
       "    <tr>\n",
       "      <th>50%</th>\n",
       "      <td>1990.000000</td>\n",
       "      <td>0.000000</td>\n",
       "      <td>0.000000</td>\n",
       "      <td>0.000000</td>\n",
       "      <td>0.000000</td>\n",
       "      <td>0.000000</td>\n",
       "      <td>2.480000e+04</td>\n",
       "      <td>25.000960</td>\n",
       "      <td>24.415860</td>\n",
       "      <td>2.285359</td>\n",
       "    </tr>\n",
       "    <tr>\n",
       "      <th>75%</th>\n",
       "      <td>2000.000000</td>\n",
       "      <td>0.000000</td>\n",
       "      <td>0.000000</td>\n",
       "      <td>0.000000</td>\n",
       "      <td>0.000000</td>\n",
       "      <td>0.000000</td>\n",
       "      <td>1.102500e+05</td>\n",
       "      <td>26.276810</td>\n",
       "      <td>25.687395</td>\n",
       "      <td>7.731115</td>\n",
       "    </tr>\n",
       "    <tr>\n",
       "      <th>max</th>\n",
       "      <td>2015.000000</td>\n",
       "      <td>300000.000000</td>\n",
       "      <td>242000.000000</td>\n",
       "      <td>9726.000000</td>\n",
       "      <td>30005.000000</td>\n",
       "      <td>300317.000000</td>\n",
       "      <td>8.150000e+06</td>\n",
       "      <td>35.022940</td>\n",
       "      <td>33.896340</td>\n",
       "      <td>130.982300</td>\n",
       "    </tr>\n",
       "  </tbody>\n",
       "</table>\n",
       "</div>"
      ],
      "text/plain": [
       "               year  drought_killed  earthquake_killed  epidemic_killed  \\\n",
       "count  56436.000000     4992.000000        3783.000000      5434.000000   \n",
       "mean    1988.906549      135.740585         218.106265        35.921973   \n",
       "std       13.575431     5157.834533        4654.818243       292.167925   \n",
       "min     1950.000000        0.000000           0.000000         0.000000   \n",
       "25%     1980.000000        0.000000           0.000000         0.000000   \n",
       "50%     1990.000000        0.000000           0.000000         0.000000   \n",
       "75%     2000.000000        0.000000           0.000000         0.000000   \n",
       "max     2015.000000   300000.000000      242000.000000      9726.000000   \n",
       "\n",
       "       flood_killed   storm_killed  total_forest_area   female_bmi  \\\n",
       "count   7098.000000    7059.000000       4.992000e+03  5771.000000   \n",
       "mean      35.082840     111.081598       2.104528e+05    24.674888   \n",
       "std      527.328405    4286.325785       7.865677e+05     2.622642   \n",
       "min        0.000000       0.000000       0.000000e+00    18.471660   \n",
       "25%        0.000000       0.000000       3.340000e+03    22.696370   \n",
       "50%        0.000000       0.000000       2.480000e+04    25.000960   \n",
       "75%        0.000000       0.000000       1.102500e+05    26.276810   \n",
       "max    30005.000000  300317.000000       8.150000e+06    35.022940   \n",
       "\n",
       "          male_bmi  murder_rate  \n",
       "count  5771.000000  3015.000000  \n",
       "mean     24.007244     6.646096  \n",
       "std       2.311251    10.445316  \n",
       "min      19.013940     0.000000  \n",
       "25%      21.871030     1.099403  \n",
       "50%      24.415860     2.285359  \n",
       "75%      25.687395     7.731115  \n",
       "max      33.896340   130.982300  "
      ]
     },
     "execution_count": 82,
     "metadata": {},
     "output_type": "execute_result"
    }
   ],
   "source": [
    "df_mg.describe()"
   ]
  },
  {
   "cell_type": "markdown",
   "metadata": {},
   "source": [
    "**Observation 1:** Of all the natural disasters, ***earthquakes killed more people on average for all years at 218 people.*** On the contrary, ***floods killed the least amount of people, at 35 people on average.***\n",
    "\n",
    "**Observation 2:** For all countries and years, ***around 7 people are killed per 100,000 people***. This is a very low count, but then we see that ***at maximum, 131 people are killed per 100,000***. This raises the question: would this country/year be an outlier?\n",
    "\n",
    "**Observation 3:** For all 25th, 50th, and 75th percentiles, ***no natural disaster occurred.*** This implies that natural disasters *rarely ever happen, or are poorly recorded.*\n",
    "\n",
    "**Observation 4:** Of all the natural disasters, droughts have the highest standard deviation at 5158 people. This means that ***droughts have the highest variability in mortality counts compared to all other natural disasters.*** This may be reflective of the fact that *droughts affect certain areas of the world more than areas, especially countries with high amounts of dry land.* \n",
    "\n",
    "**Observation 5:** The average total forest area for any given country/year pair is ***18,615 square kilometers.*** This really is not much land, compared to the most heavily forested record at ***815,000 square kilometers.*** So far, none of the country/year pairs listed has a forest area coverage in the millions.\n",
    "\n",
    "**Observation 6:** There is higher variability in female BMI vs. male BMI rates. Additionally, both the mean and maximum female BMI rates are ***greater*** than the male BMI scores, respectively. However, the minimum female BMI rate is ***lesser*** than the minimum male BMI. The counts in male and female BMI scores are the same at 5771, which means that ***gender is evenly split, and thus we can draw confident conclusions from gender comparison.***\n",
    "\n",
    "**Observation 7:** Of all the natural disasters, ***floods are the most frequently recorded, 7098 times. Yet floods kill the least amount of people. On the contrary, earthquakes are the least frequently recorded, 3783 times. Yet earthquakes kill the most amount of people.**\n",
    "\n",
    "**Observation 8:** The stark disparity in the previous observation is an interesting relationship to observe. This implies that *the natural disasters which occur the least frequently are the most deadly, while the ones that occur the most frequently are the least deadly.* Sounds like a fair trade off to me.\n",
    "\n",
    "----------------------------\n",
    "\n",
    "**Question 1:** Which country has the highest homicide rate? What about just country? Or year? Is this an outlier?\n",
    "\n",
    "**Question 2:** Do countries with less forest area tend to have higher rates of death by drought?"
   ]
  },
  {
   "cell_type": "markdown",
   "metadata": {},
   "source": [
    "### Visualize"
   ]
  },
  {
   "cell_type": "code",
   "execution_count": 97,
   "metadata": {},
   "outputs": [
    {
     "data": {
      "image/png": "[encoded data removed]",
      "text/plain": [
       "<Figure size 720x720 with 12 Axes>"
      ]
     },
     "metadata": {
      "needs_background": "light"
     },
     "output_type": "display_data"
    }
   ],
   "source": [
    "df_mg.hist(figsize = [10, 10]);\n",
    "plt.savefig('./visuals/hist-all.png')"
   ]
  },
  {
   "cell_type": "markdown",
   "metadata": {},
   "source": [
    "**Observation 1:** The highest amount of records for years are between 1990 and 2000, while the 1960s-70s have the least amount of data. However, there is a sharp, steep trough in counts just after 2000. This means that ***the more recent the year is before 2000, the more reliable and representative the data.***\n",
    "\n",
    "**Observation 2:** Female BMI scores appear normally distributed while male BMI scores appear bimodal. However, ***BMI scores for both genders have peaks at around a score of 25***, which implies that the average human teeters between normal (healthy weight) and overweight.\n",
    "\n",
    "**Observation 3:** Murder rates are severely right-skewed, which further supports my hypothesis that ***the country with the max amount of homicide counts per 100,000 is an outlier.*** That outlier is so significant that it affects the entire distribution for murder rates.\n",
    "\n",
    "**Observation 4:** The peak count of murder rates is at over 2,000 for rates between 0 and approximately 25.\n",
    "\n",
    "**Observation 5:** There is a continuous trend of ***severe right-skewness for all distributions aside from year and BMI scores.*** This is both good and bad news.\n",
    "- The good news: there are significantly lesser counts for natural disaster mortality counts.\n",
    "- The bad news: the average country has much virtually minimal total forest area.\n",
    "\n",
    "---\n"
   ]
  },
  {
   "cell_type": "markdown",
   "metadata": {},
   "source": [
    "### Question 1: Which country has the highest homicide rate? Which year? Do either of these variables act as outliers?"
   ]
  },
  {
   "cell_type": "code",
   "execution_count": 114,
   "metadata": {},
   "outputs": [
    {
     "data": {
      "text/html": [
       "<div>\n",
       "<style scoped>\n",
       "    .dataframe tbody tr th:only-of-type {\n",
       "        vertical-align: middle;\n",
       "    }\n",
       "\n",
       "    .dataframe tbody tr th {\n",
       "        vertical-align: top;\n",
       "    }\n",
       "\n",
       "    .dataframe thead th {\n",
       "        text-align: right;\n",
       "    }\n",
       "</style>\n",
       "<table border=\"1\" class=\"dataframe\">\n",
       "  <thead>\n",
       "    <tr style=\"text-align: right;\">\n",
       "      <th></th>\n",
       "      <th>country</th>\n",
       "      <th>year</th>\n",
       "      <th>drought_killed</th>\n",
       "      <th>earthquake_killed</th>\n",
       "      <th>epidemic_killed</th>\n",
       "      <th>flood_killed</th>\n",
       "      <th>storm_killed</th>\n",
       "      <th>total_forest_area</th>\n",
       "      <th>female_bmi</th>\n",
       "      <th>male_bmi</th>\n",
       "      <th>murder_rate</th>\n",
       "    </tr>\n",
       "  </thead>\n",
       "  <tbody>\n",
       "    <tr>\n",
       "      <th>51358</th>\n",
       "      <td>Guatemala</td>\n",
       "      <td>1981</td>\n",
       "      <td>NaN</td>\n",
       "      <td>NaN</td>\n",
       "      <td>NaN</td>\n",
       "      <td>NaN</td>\n",
       "      <td>NaN</td>\n",
       "      <td>NaN</td>\n",
       "      <td>NaN</td>\n",
       "      <td>NaN</td>\n",
       "      <td>130.9823</td>\n",
       "    </tr>\n",
       "  </tbody>\n",
       "</table>\n",
       "</div>"
      ],
      "text/plain": [
       "         country  year  drought_killed  earthquake_killed  epidemic_killed  \\\n",
       "51358  Guatemala  1981             NaN                NaN              NaN   \n",
       "\n",
       "       flood_killed  storm_killed  total_forest_area  female_bmi  male_bmi  \\\n",
       "51358           NaN           NaN                NaN         NaN       NaN   \n",
       "\n",
       "       murder_rate  \n",
       "51358     130.9823  "
      ]
     },
     "execution_count": 114,
     "metadata": {},
     "output_type": "execute_result"
    }
   ],
   "source": [
    "#isolate max homicide rate\n",
    "df_mg[df_mg.murder_rate == df_mg.murder_rate.max()]"
   ]
  },
  {
   "cell_type": "markdown",
   "metadata": {},
   "source": [
    "**Observation 1:** Guatemala has the highest murder rate at 131 people per 100,000.\n",
    "\n",
    "**Observation 2:** There are no other records for Guatemala, so it will be impossible to draw a relationship between these variables for the year 1981.\n",
    "\n",
    "---\n",
    "### Question 1a: How do murder rates for Guatemala vary by year? Are there records for the other features for those years?\n"
   ]
  },
  {
   "cell_type": "code",
   "execution_count": 116,
   "metadata": {},
   "outputs": [],
   "source": [
    "#isolate all records for Guatemala\n",
    "df_guatemala = df_mg[df_mg.country == 'Guatemala']"
   ]
  },
  {
   "cell_type": "code",
   "execution_count": 129,
   "metadata": {},
   "outputs": [
    {
     "data": {
      "image/png": "[encoded data removed]",
      "text/plain": [
       "<Figure size 432x288 with 1 Axes>"
      ]
     },
     "metadata": {
      "needs_background": "light"
     },
     "output_type": "display_data"
    }
   ],
   "source": [
    "#show trend\n",
    "plt.scatter(data = df_guatemala, x = 'year', y = 'murder_rate')\n",
    "plt.ylabel('Count')\n",
    "plt.xlabel('Year')\n",
    "plt.suptitle('Murder Counts in Guatemala by Year')\n",
    "plt.title('per 100,000 people')\n",
    "\n",
    "plt.savefig('./visuals/guatemala-murder-rate.png')"
   ]
  },
  {
   "cell_type": "markdown",
   "metadata": {},
   "source": [
    "**Observation 1:** My prediction was correct: ***the record with the highest global murder rate is, in fact, an outlier.*** A severe one at that, too. \n",
    "\n",
    "**Observation 2:** The trend in murder rates by year for Guatemela appears to be normal, but then ***largely unpredictable and varied between the mid 1970s to late 1980s.*** The mid 1970s found a sharp decrease in murder rates even compared to previous trends. However, murder rates *skyrocketed* in such a short amount of time, reaching the max at around 1980 and they *sharply decreased* in just about the same amount of time. After the mid-1980s, murder rates started to normalize just like the trends before the mid 1970s.\n",
    "\n",
    "**Observation 3:** The mid-1970s to late 1980s depict ***both the record highest and record lowest murder rates***, hence these years' large unpredictability. This is a key insight because the [Guatemalan Civil War](https://www.pri.org/stories/2016-12-29/why-you-need-know-about-guatemalas-civil-war) is the major event that took place during these years.\n",
    "\n",
    "**Observation 4:** Murder rates have been linearly increasing from the early 2000s onward. In a cruel twist of irony, safety in Guatemala is decreasing but at least this murder trend is predictable unlike the 1970s. \n",
    "\n",
    "**Observation 5:** Without the outliers from the years of the Guatemalan Civil War, the overall trend appears more or less ***positively linear but weak.*** With the outliers, however, the trend appears to be ***normally distributed.***\n",
    "\n",
    "### Question 2: Do countries with less forest area tend to have higher rates of death by drought?"
   ]
  },
  {
   "cell_type": "code",
   "execution_count": 135,
   "metadata": {},
   "outputs": [
    {
     "data": {
      "text/html": [
       "<div>\n",
       "<style scoped>\n",
       "    .dataframe tbody tr th:only-of-type {\n",
       "        vertical-align: middle;\n",
       "    }\n",
       "\n",
       "    .dataframe tbody tr th {\n",
       "        vertical-align: top;\n",
       "    }\n",
       "\n",
       "    .dataframe thead th {\n",
       "        text-align: right;\n",
       "    }\n",
       "</style>\n",
       "<table border=\"1\" class=\"dataframe\">\n",
       "  <thead>\n",
       "    <tr style=\"text-align: right;\">\n",
       "      <th></th>\n",
       "      <th>country</th>\n",
       "      <th>year</th>\n",
       "      <th>drought_killed</th>\n",
       "      <th>earthquake_killed</th>\n",
       "      <th>epidemic_killed</th>\n",
       "      <th>flood_killed</th>\n",
       "      <th>storm_killed</th>\n",
       "      <th>total_forest_area</th>\n",
       "      <th>female_bmi</th>\n",
       "      <th>male_bmi</th>\n",
       "      <th>murder_rate</th>\n",
       "    </tr>\n",
       "  </thead>\n",
       "  <tbody>\n",
       "  </tbody>\n",
       "</table>\n",
       "</div>"
      ],
      "text/plain": [
       "Empty DataFrame\n",
       "Columns: [country, year, drought_killed, earthquake_killed, epidemic_killed, flood_killed, storm_killed, total_forest_area, female_bmi, male_bmi, murder_rate]\n",
       "Index: []"
      ]
     },
     "execution_count": 135,
     "metadata": {},
     "output_type": "execute_result"
    }
   ],
   "source": [
    "#verify there are records with BOTH drought and forest area fields are not null\n",
    "df_mg.loc[~(df_mg.drought_killed.isna()) & ~(df_mg.total_forest_area.isna())]"
   ]
  },
  {
   "cell_type": "markdown",
   "metadata": {},
   "source": [
    "> There are no records where both `total_forest_area` and `drought_killed` fields are not null. So ***Question 2 leads to a dead end.***"
   ]
  },
  {
   "cell_type": "markdown",
   "metadata": {},
   "source": [
    "### Question 3: How much have global obesity rates changed in countries with high forest area vs. countries with low forest area?"
   ]
  },
  {
   "cell_type": "code",
   "execution_count": 138,
   "metadata": {},
   "outputs": [
    {
     "data": {
      "text/html": [
       "<div>\n",
       "<style scoped>\n",
       "    .dataframe tbody tr th:only-of-type {\n",
       "        vertical-align: middle;\n",
       "    }\n",
       "\n",
       "    .dataframe tbody tr th {\n",
       "        vertical-align: top;\n",
       "    }\n",
       "\n",
       "    .dataframe thead th {\n",
       "        text-align: right;\n",
       "    }\n",
       "</style>\n",
       "<table border=\"1\" class=\"dataframe\">\n",
       "  <thead>\n",
       "    <tr style=\"text-align: right;\">\n",
       "      <th></th>\n",
       "      <th>country</th>\n",
       "      <th>year</th>\n",
       "      <th>drought_killed</th>\n",
       "      <th>earthquake_killed</th>\n",
       "      <th>epidemic_killed</th>\n",
       "      <th>flood_killed</th>\n",
       "      <th>storm_killed</th>\n",
       "      <th>total_forest_area</th>\n",
       "      <th>female_bmi</th>\n",
       "      <th>male_bmi</th>\n",
       "      <th>murder_rate</th>\n",
       "    </tr>\n",
       "  </thead>\n",
       "  <tbody>\n",
       "  </tbody>\n",
       "</table>\n",
       "</div>"
      ],
      "text/plain": [
       "Empty DataFrame\n",
       "Columns: [country, year, drought_killed, earthquake_killed, epidemic_killed, flood_killed, storm_killed, total_forest_area, female_bmi, male_bmi, murder_rate]\n",
       "Index: []"
      ]
     },
     "execution_count": 138,
     "metadata": {},
     "output_type": "execute_result"
    }
   ],
   "source": [
    "#verify there are records with BOTH forest area and male bmi rates are not null\n",
    "df_mg.loc[~(df_mg.total_forest_area.isna()) & ~(df_mg.male_bmi.isna())]"
   ]
  },
  {
   "cell_type": "code",
   "execution_count": 139,
   "metadata": {},
   "outputs": [
    {
     "data": {
      "text/html": [
       "<div>\n",
       "<style scoped>\n",
       "    .dataframe tbody tr th:only-of-type {\n",
       "        vertical-align: middle;\n",
       "    }\n",
       "\n",
       "    .dataframe tbody tr th {\n",
       "        vertical-align: top;\n",
       "    }\n",
       "\n",
       "    .dataframe thead th {\n",
       "        text-align: right;\n",
       "    }\n",
       "</style>\n",
       "<table border=\"1\" class=\"dataframe\">\n",
       "  <thead>\n",
       "    <tr style=\"text-align: right;\">\n",
       "      <th></th>\n",
       "      <th>country</th>\n",
       "      <th>year</th>\n",
       "      <th>drought_killed</th>\n",
       "      <th>earthquake_killed</th>\n",
       "      <th>epidemic_killed</th>\n",
       "      <th>flood_killed</th>\n",
       "      <th>storm_killed</th>\n",
       "      <th>total_forest_area</th>\n",
       "      <th>female_bmi</th>\n",
       "      <th>male_bmi</th>\n",
       "      <th>murder_rate</th>\n",
       "    </tr>\n",
       "  </thead>\n",
       "  <tbody>\n",
       "  </tbody>\n",
       "</table>\n",
       "</div>"
      ],
      "text/plain": [
       "Empty DataFrame\n",
       "Columns: [country, year, drought_killed, earthquake_killed, epidemic_killed, flood_killed, storm_killed, total_forest_area, female_bmi, male_bmi, murder_rate]\n",
       "Index: []"
      ]
     },
     "execution_count": 139,
     "metadata": {},
     "output_type": "execute_result"
    }
   ],
   "source": [
    "df_mg.loc[~(df_mg.total_forest_area.isna()) & ~(df_mg.female_bmi.isna())]"
   ]
  },
  {
   "cell_type": "markdown",
   "metadata": {},
   "source": [
    "> There are no records where `total_forest_area`, `bmi_male`, and `bmi_female` fields are not null. ***There is a recurring theme where the low count of forest area is a hard variable to do anything with.***\n",
    "\n",
    "**To combat this problem, let's isolate the rows where `total_forest_area` is *not* null.**"
   ]
  },
  {
   "cell_type": "code",
   "execution_count": 148,
   "metadata": {},
   "outputs": [
    {
     "name": "stdout",
     "output_type": "stream",
     "text": [
      "<class 'pandas.core.frame.DataFrame'>\n",
      "Int64Index: 4992 entries, 28366 to 33357\n",
      "Data columns (total 11 columns):\n",
      "country              4992 non-null object\n",
      "year                 4992 non-null int64\n",
      "drought_killed       0 non-null float64\n",
      "earthquake_killed    0 non-null float64\n",
      "epidemic_killed      0 non-null float64\n",
      "flood_killed         0 non-null float64\n",
      "storm_killed         0 non-null float64\n",
      "total_forest_area    4992 non-null float64\n",
      "female_bmi           0 non-null float64\n",
      "male_bmi             0 non-null float64\n",
      "murder_rate          0 non-null float64\n",
      "dtypes: float64(9), int64(1), object(1)\n",
      "memory usage: 468.0+ KB\n"
     ]
    }
   ],
   "source": [
    "#isolate\n",
    "df_forest_nna = df_mg.loc[~(df_mg.total_forest_area.isna())]\n",
    "\n",
    "#look for counts of non-null values in other rows\n",
    "df_forest_nna.info()"
   ]
  },
  {
   "cell_type": "markdown",
   "metadata": {},
   "source": [
    "> Of all the fields where `total_forest_area` is not null, ***all other fields besides country and year have no data.*** Therefore, total forest area is a useless variable to make comparisons to natural disaster, BMI, and murder rate fields.\n",
    "\n",
    "**Question 3a:** How does global total forest area trend with year?\n",
    "\n",
    "**Question 3b:** Which countries have the highest amount of total forest area?\n",
    "\n",
    "\n",
    "### [TK] create visual correlating year with country Question 3a: How do global total forest areas trend with year?"
   ]
  },
  {
   "cell_type": "code",
   "execution_count": 149,
   "metadata": {},
   "outputs": [
    {
     "data": {
      "text/plain": [
       "<matplotlib.collections.PathCollection at 0x264b6c3f7b8>"
      ]
     },
     "execution_count": 149,
     "metadata": {},
     "output_type": "execute_result"
    },
    {
     "data": {
      "image/png": "[encoded data removed]",
      "text/plain": [
       "<Figure size 432x288 with 1 Axes>"
      ]
     },
     "metadata": {
      "needs_background": "light"
     },
     "output_type": "display_data"
    }
   ],
   "source": [
    "#create visual\n",
    "plt.scatter(data = df_mg, x = 'year', y = 'total_forest_area')"
   ]
  },
  {
   "cell_type": "markdown",
   "metadata": {},
   "source": [
    "### Question 3b: Which countries have the highest amount of mean total forest area?"
   ]
  },
  {
   "cell_type": "code",
   "execution_count": 157,
   "metadata": {},
   "outputs": [],
   "source": [
    "#isolate total forest area by country, in descending order\n",
    "forest_order = df_mg.groupby('country').mean().total_forest_area.sort_values(ascending = False)"
   ]
  },
  {
   "cell_type": "code",
   "execution_count": 173,
   "metadata": {},
   "outputs": [
    {
     "data": {
      "text/plain": [
       "Index(['Russia', 'Brazil', 'Canada', 'United States', 'China',\n",
       "       'Congo, Dem. Rep.', 'Australia', 'Indonesia', 'Peru', 'Mexico'],\n",
       "      dtype='object', name='country')"
      ]
     },
     "execution_count": 173,
     "metadata": {},
     "output_type": "execute_result"
    }
   ],
   "source": [
    "#top 10 countries, descending order\n",
    "forest_order.index[:10]"
   ]
  },
  {
   "cell_type": "code",
   "execution_count": 174,
   "metadata": {},
   "outputs": [
    {
     "data": {
      "text/plain": [
       "Index(['USSR', 'Virgin Islands (U.S.)', 'Wallis ', 'Wallis et Futuna',\n",
       "       'West Bank and Gaza', 'West Germany', 'Yemen Arab Republic (Former)',\n",
       "       'Yemen Democratic (Former)', 'Yemen, Rep.', 'Yugoslavia'],\n",
       "      dtype='object', name='country')"
      ]
     },
     "execution_count": 174,
     "metadata": {},
     "output_type": "execute_result"
    }
   ],
   "source": [
    "#bottom 10 countries, descending order\n",
    "forest_order.index[-10:]"
   ]
  },
  {
   "cell_type": "markdown",
   "metadata": {},
   "source": [
    "**Observation 1:** The top 10 countries with the most forest area comprise of countries that are at least 1 of the following characteristics: is a world superpower, contains a rainforest climate.\n",
    "\n",
    "**Observation 2:** The bottom 10 countries with the least amount of forest area contain at least 1 of the following characteristics: ***is majority desert/arid climate, is a heavily industrialized country, is currently experiencing warfare and crisis.*** \n",
    "\n",
    "All of these characteristics intuitively make sense; the less warfare and industrialization, and the more access there is to natural resources, the more a country is likely to have a wider span of total forest area."
   ]
  },
  {
   "cell_type": "markdown",
   "metadata": {},
   "source": [
    "### Does a country’s likelihood of experiencing a natural disaster affect the homicidal tendencies of its citizens?"
   ]
  },
  {
   "cell_type": "code",
   "execution_count": null,
   "metadata": {
    "collapsed": true
   },
   "outputs": [],
   "source": [
    "# Continue to explore the data to address your additional research\n",
    "#   questions. Add more headers as needed if you have more questions to\n",
    "#   investigate.\n"
   ]
  },
  {
   "cell_type": "markdown",
   "metadata": {},
   "source": [
    "<a id='conclusions'></a>\n",
    "# IV) Conclusions\n",
    "\n",
    "> **Tip**: Finally, summarize your findings and the results that have been performed. Make sure that you are clear with regards to the limitations of your exploration. If you haven't done any statistical tests, do not imply any statistical conclusions. And make sure you avoid implying causation from correlation!\n",
    "\n",
    "> **Tip**: Once you are satisfied with your work here, check over your report to make sure that it is satisfies all the areas of the rubric (found on the project submission page at the end of the lesson). You should also probably remove all of the \"Tips\" like this one so that the presentation is as polished as possible.\n",
    "\n",
    "## Submitting your Project \n",
    "\n",
    "> Before you submit your project, you need to create a .html or .pdf version of this notebook in the workspace here. To do that, run the code cell below. If it worked correctly, you should get a return code of 0, and you should see the generated .html file in the workspace directory (click on the orange Jupyter icon in the upper left).\n",
    "\n",
    "> Alternatively, you can download this report as .html via the **File** > **Download as** submenu, and then manually upload it into the workspace directory by clicking on the orange Jupyter icon in the upper left, then using the Upload button.\n",
    "\n",
    "> Once you've done this, you can submit your project by clicking on the \"Submit Project\" button in the lower right here. This will create and submit a zip file with this .ipynb doc and the .html or .pdf version you created. Congratulations!"
   ]
  },
  {
   "cell_type": "code",
   "execution_count": null,
   "metadata": {
    "collapsed": true
   },
   "outputs": [],
   "source": [
    "from subprocess import call\n",
    "call(['python', '-m', 'nbconvert', 'Investigate_a_Dataset.ipynb'])"
   ]
  }
 ],
 "metadata": {
  "kernelspec": {
   "display_name": "Python 3",
   "language": "python",
   "name": "python3"
  },
  "language_info": {
   "codemirror_mode": {
    "name": "ipython",
    "version": 3
   },
   "file_extension": ".py",
   "mimetype": "text/x-python",
   "name": "python",
   "nbconvert_exporter": "python",
   "pygments_lexer": "ipython3",
   "version": "3.7.3"
  }
 },
 "nbformat": 4,
 "nbformat_minor": 2
}
